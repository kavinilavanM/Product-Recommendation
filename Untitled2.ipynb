{
  "nbformat": 4,
  "nbformat_minor": 0,
  "metadata": {
    "colab": {
      "provenance": []
    },
    "kernelspec": {
      "name": "python3",
      "display_name": "Python 3"
    },
    "language_info": {
      "name": "python"
    },
    "gpuClass": "standard",
    "accelerator": "GPU"
  },
  "cells": [
    {
      "cell_type": "markdown",
      "source": [
        "# Product Recommendation System "
      ],
      "metadata": {
        "id": "0tLWpvZvN9dl"
      }
    },
    {
      "cell_type": "markdown",
      "source": [
        "A personalized recommendation system is a type of recommendation system that provides personalized recommendations to users based on their individual preferences and behaviors. The system takes into account a user's past interactions with the system, such as items they have viewed, purchased, or rated, as well as demographic and contextual information, to generate recommendations that are tailored to the user's unique preferences and interests. Personalized recommendation systems are widely used in e-commerce, social media, and entertainment platforms to improve user engagement and satisfaction by providing them with more relevant and useful content."
      ],
      "metadata": {
        "id": "SvbQWi4N8vHd"
      }
    },
    {
      "cell_type": "markdown",
      "source": [
        "Methods ❎\n",
        "1. Popular methods \n",
        "2. Content Based Filtering\n",
        "3. Collabrative Based Filtering\n",
        "4. Tensorflow Recommendation\n",
        "5. Hybrid Model"
      ],
      "metadata": {
        "id": "ooENlUCt8wst"
      }
    },
    {
      "cell_type": "code",
      "execution_count": 1,
      "metadata": {
        "colab": {
          "base_uri": "https://localhost:8080/",
          "height": 298
        },
        "id": "695_DXZdKHJz",
        "outputId": "3dae29d3-a9f8-4e79-dae9-94606ca231c0"
      },
      "outputs": [
        {
          "output_type": "execute_result",
          "data": {
            "text/plain": [
              "   product_id                                       product_name  \\\n",
              "0  B07JW9H4J1  Wayona Nylon Braided USB to Lightning Fast Cha...   \n",
              "1  B098NS6PVG  Ambrane Unbreakable 60W / 3A Fast Charging 1.5...   \n",
              "\n",
              "                                            category discounted_price  \\\n",
              "0  Computers&Accessories|Accessories&Peripherals|...             ₹399   \n",
              "1  Computers&Accessories|Accessories&Peripherals|...             ₹199   \n",
              "\n",
              "  actual_price discount_percentage rating rating_count  \\\n",
              "0       ₹1,099                 64%    4.2       24,269   \n",
              "1         ₹349                 43%    4.0       43,994   \n",
              "\n",
              "                                       about_product  \\\n",
              "0  High Compatibility : Compatible With iPhone 12...   \n",
              "1  Compatible with all Type C enabled devices, be...   \n",
              "\n",
              "                                             user_id  \\\n",
              "0  AG3D6O4STAQKAY2UVGEUV46KN35Q,AHMY5CWJMMK5BJRBB...   \n",
              "1  AECPFYFQVRUWC3KGNLJIOREFP5LQ,AGYYVPDD7YG7FYNBX...   \n",
              "\n",
              "                                           user_name  \\\n",
              "0  Manav,Adarsh gupta,Sundeep,S.Sayeed Ahmed,jasp...   \n",
              "1  ArdKn,Nirbhay kumar,Sagar Viswanathan,Asp,Plac...   \n",
              "\n",
              "                                           review_id  \\\n",
              "0  R3HXWT0LRP0NMF,R2AJM3LFTLZHFO,R6AQJGUP6P86,R1K...   \n",
              "1  RGIQEG07R9HS2,R1SMWZQ86XIN8U,R2J3Y1WL29GWDE,RY...   \n",
              "\n",
              "                                        review_title  \\\n",
              "0  Satisfied,Charging is really fast,Value for mo...   \n",
              "1  A Good Braided Cable for Your Type C Device,Go...   \n",
              "\n",
              "                                      review_content  \\\n",
              "0  Looks durable Charging is fine tooNo complains...   \n",
              "1  I ordered this cable to connect my phone to An...   \n",
              "\n",
              "                                            img_link  \\\n",
              "0  https://m.media-amazon.com/images/W/WEBP_40237...   \n",
              "1  https://m.media-amazon.com/images/W/WEBP_40237...   \n",
              "\n",
              "                                        product_link  \n",
              "0  https://www.amazon.in/Wayona-Braided-WN3LG1-Sy...  \n",
              "1  https://www.amazon.in/Ambrane-Unbreakable-Char...  "
            ],
            "text/html": [
              "\n",
              "  <div id=\"df-31fae9b7-5190-4fce-947d-78635c3a71d0\">\n",
              "    <div class=\"colab-df-container\">\n",
              "      <div>\n",
              "<style scoped>\n",
              "    .dataframe tbody tr th:only-of-type {\n",
              "        vertical-align: middle;\n",
              "    }\n",
              "\n",
              "    .dataframe tbody tr th {\n",
              "        vertical-align: top;\n",
              "    }\n",
              "\n",
              "    .dataframe thead th {\n",
              "        text-align: right;\n",
              "    }\n",
              "</style>\n",
              "<table border=\"1\" class=\"dataframe\">\n",
              "  <thead>\n",
              "    <tr style=\"text-align: right;\">\n",
              "      <th></th>\n",
              "      <th>product_id</th>\n",
              "      <th>product_name</th>\n",
              "      <th>category</th>\n",
              "      <th>discounted_price</th>\n",
              "      <th>actual_price</th>\n",
              "      <th>discount_percentage</th>\n",
              "      <th>rating</th>\n",
              "      <th>rating_count</th>\n",
              "      <th>about_product</th>\n",
              "      <th>user_id</th>\n",
              "      <th>user_name</th>\n",
              "      <th>review_id</th>\n",
              "      <th>review_title</th>\n",
              "      <th>review_content</th>\n",
              "      <th>img_link</th>\n",
              "      <th>product_link</th>\n",
              "    </tr>\n",
              "  </thead>\n",
              "  <tbody>\n",
              "    <tr>\n",
              "      <th>0</th>\n",
              "      <td>B07JW9H4J1</td>\n",
              "      <td>Wayona Nylon Braided USB to Lightning Fast Cha...</td>\n",
              "      <td>Computers&amp;Accessories|Accessories&amp;Peripherals|...</td>\n",
              "      <td>₹399</td>\n",
              "      <td>₹1,099</td>\n",
              "      <td>64%</td>\n",
              "      <td>4.2</td>\n",
              "      <td>24,269</td>\n",
              "      <td>High Compatibility : Compatible With iPhone 12...</td>\n",
              "      <td>AG3D6O4STAQKAY2UVGEUV46KN35Q,AHMY5CWJMMK5BJRBB...</td>\n",
              "      <td>Manav,Adarsh gupta,Sundeep,S.Sayeed Ahmed,jasp...</td>\n",
              "      <td>R3HXWT0LRP0NMF,R2AJM3LFTLZHFO,R6AQJGUP6P86,R1K...</td>\n",
              "      <td>Satisfied,Charging is really fast,Value for mo...</td>\n",
              "      <td>Looks durable Charging is fine tooNo complains...</td>\n",
              "      <td>https://m.media-amazon.com/images/W/WEBP_40237...</td>\n",
              "      <td>https://www.amazon.in/Wayona-Braided-WN3LG1-Sy...</td>\n",
              "    </tr>\n",
              "    <tr>\n",
              "      <th>1</th>\n",
              "      <td>B098NS6PVG</td>\n",
              "      <td>Ambrane Unbreakable 60W / 3A Fast Charging 1.5...</td>\n",
              "      <td>Computers&amp;Accessories|Accessories&amp;Peripherals|...</td>\n",
              "      <td>₹199</td>\n",
              "      <td>₹349</td>\n",
              "      <td>43%</td>\n",
              "      <td>4.0</td>\n",
              "      <td>43,994</td>\n",
              "      <td>Compatible with all Type C enabled devices, be...</td>\n",
              "      <td>AECPFYFQVRUWC3KGNLJIOREFP5LQ,AGYYVPDD7YG7FYNBX...</td>\n",
              "      <td>ArdKn,Nirbhay kumar,Sagar Viswanathan,Asp,Plac...</td>\n",
              "      <td>RGIQEG07R9HS2,R1SMWZQ86XIN8U,R2J3Y1WL29GWDE,RY...</td>\n",
              "      <td>A Good Braided Cable for Your Type C Device,Go...</td>\n",
              "      <td>I ordered this cable to connect my phone to An...</td>\n",
              "      <td>https://m.media-amazon.com/images/W/WEBP_40237...</td>\n",
              "      <td>https://www.amazon.in/Ambrane-Unbreakable-Char...</td>\n",
              "    </tr>\n",
              "  </tbody>\n",
              "</table>\n",
              "</div>\n",
              "      <button class=\"colab-df-convert\" onclick=\"convertToInteractive('df-31fae9b7-5190-4fce-947d-78635c3a71d0')\"\n",
              "              title=\"Convert this dataframe to an interactive table.\"\n",
              "              style=\"display:none;\">\n",
              "        \n",
              "  <svg xmlns=\"http://www.w3.org/2000/svg\" height=\"24px\"viewBox=\"0 0 24 24\"\n",
              "       width=\"24px\">\n",
              "    <path d=\"M0 0h24v24H0V0z\" fill=\"none\"/>\n",
              "    <path d=\"M18.56 5.44l.94 2.06.94-2.06 2.06-.94-2.06-.94-.94-2.06-.94 2.06-2.06.94zm-11 1L8.5 8.5l.94-2.06 2.06-.94-2.06-.94L8.5 2.5l-.94 2.06-2.06.94zm10 10l.94 2.06.94-2.06 2.06-.94-2.06-.94-.94-2.06-.94 2.06-2.06.94z\"/><path d=\"M17.41 7.96l-1.37-1.37c-.4-.4-.92-.59-1.43-.59-.52 0-1.04.2-1.43.59L10.3 9.45l-7.72 7.72c-.78.78-.78 2.05 0 2.83L4 21.41c.39.39.9.59 1.41.59.51 0 1.02-.2 1.41-.59l7.78-7.78 2.81-2.81c.8-.78.8-2.07 0-2.86zM5.41 20L4 18.59l7.72-7.72 1.47 1.35L5.41 20z\"/>\n",
              "  </svg>\n",
              "      </button>\n",
              "      \n",
              "  <style>\n",
              "    .colab-df-container {\n",
              "      display:flex;\n",
              "      flex-wrap:wrap;\n",
              "      gap: 12px;\n",
              "    }\n",
              "\n",
              "    .colab-df-convert {\n",
              "      background-color: #E8F0FE;\n",
              "      border: none;\n",
              "      border-radius: 50%;\n",
              "      cursor: pointer;\n",
              "      display: none;\n",
              "      fill: #1967D2;\n",
              "      height: 32px;\n",
              "      padding: 0 0 0 0;\n",
              "      width: 32px;\n",
              "    }\n",
              "\n",
              "    .colab-df-convert:hover {\n",
              "      background-color: #E2EBFA;\n",
              "      box-shadow: 0px 1px 2px rgba(60, 64, 67, 0.3), 0px 1px 3px 1px rgba(60, 64, 67, 0.15);\n",
              "      fill: #174EA6;\n",
              "    }\n",
              "\n",
              "    [theme=dark] .colab-df-convert {\n",
              "      background-color: #3B4455;\n",
              "      fill: #D2E3FC;\n",
              "    }\n",
              "\n",
              "    [theme=dark] .colab-df-convert:hover {\n",
              "      background-color: #434B5C;\n",
              "      box-shadow: 0px 1px 3px 1px rgba(0, 0, 0, 0.15);\n",
              "      filter: drop-shadow(0px 1px 2px rgba(0, 0, 0, 0.3));\n",
              "      fill: #FFFFFF;\n",
              "    }\n",
              "  </style>\n",
              "\n",
              "      <script>\n",
              "        const buttonEl =\n",
              "          document.querySelector('#df-31fae9b7-5190-4fce-947d-78635c3a71d0 button.colab-df-convert');\n",
              "        buttonEl.style.display =\n",
              "          google.colab.kernel.accessAllowed ? 'block' : 'none';\n",
              "\n",
              "        async function convertToInteractive(key) {\n",
              "          const element = document.querySelector('#df-31fae9b7-5190-4fce-947d-78635c3a71d0');\n",
              "          const dataTable =\n",
              "            await google.colab.kernel.invokeFunction('convertToInteractive',\n",
              "                                                     [key], {});\n",
              "          if (!dataTable) return;\n",
              "\n",
              "          const docLinkHtml = 'Like what you see? Visit the ' +\n",
              "            '<a target=\"_blank\" href=https://colab.research.google.com/notebooks/data_table.ipynb>data table notebook</a>'\n",
              "            + ' to learn more about interactive tables.';\n",
              "          element.innerHTML = '';\n",
              "          dataTable['output_type'] = 'display_data';\n",
              "          await google.colab.output.renderOutput(dataTable, element);\n",
              "          const docLink = document.createElement('div');\n",
              "          docLink.innerHTML = docLinkHtml;\n",
              "          element.appendChild(docLink);\n",
              "        }\n",
              "      </script>\n",
              "    </div>\n",
              "  </div>\n",
              "  "
            ]
          },
          "metadata": {},
          "execution_count": 1
        }
      ],
      "source": [
        "import pandas as pd # pandas for data manipulation\n",
        "data = pd.read_csv(\"amazon.csv\") # load data\n",
        "data.head(2) # display data"
      ]
    },
    {
      "cell_type": "code",
      "source": [
        "data.info() # information about data"
      ],
      "metadata": {
        "colab": {
          "base_uri": "https://localhost:8080/"
        },
        "id": "l-b3_GZ3ScPX",
        "outputId": "097c2cb4-e70b-4446-f359-672d3403b420"
      },
      "execution_count": 2,
      "outputs": [
        {
          "output_type": "stream",
          "name": "stdout",
          "text": [
            "<class 'pandas.core.frame.DataFrame'>\n",
            "RangeIndex: 1465 entries, 0 to 1464\n",
            "Data columns (total 16 columns):\n",
            " #   Column               Non-Null Count  Dtype \n",
            "---  ------               --------------  ----- \n",
            " 0   product_id           1465 non-null   object\n",
            " 1   product_name         1465 non-null   object\n",
            " 2   category             1465 non-null   object\n",
            " 3   discounted_price     1465 non-null   object\n",
            " 4   actual_price         1465 non-null   object\n",
            " 5   discount_percentage  1465 non-null   object\n",
            " 6   rating               1465 non-null   object\n",
            " 7   rating_count         1463 non-null   object\n",
            " 8   about_product        1465 non-null   object\n",
            " 9   user_id              1465 non-null   object\n",
            " 10  user_name            1465 non-null   object\n",
            " 11  review_id            1465 non-null   object\n",
            " 12  review_title         1465 non-null   object\n",
            " 13  review_content       1465 non-null   object\n",
            " 14  img_link             1465 non-null   object\n",
            " 15  product_link         1465 non-null   object\n",
            "dtypes: object(16)\n",
            "memory usage: 183.2+ KB\n"
          ]
        }
      ]
    },
    {
      "cell_type": "code",
      "source": [
        "data.isnull().sum() # calculating total number of null value"
      ],
      "metadata": {
        "colab": {
          "base_uri": "https://localhost:8080/"
        },
        "id": "cFjgXczkScQc",
        "outputId": "556036c2-962b-4489-8dd3-7a87fcfff9aa"
      },
      "execution_count": 3,
      "outputs": [
        {
          "output_type": "execute_result",
          "data": {
            "text/plain": [
              "product_id             0\n",
              "product_name           0\n",
              "category               0\n",
              "discounted_price       0\n",
              "actual_price           0\n",
              "discount_percentage    0\n",
              "rating                 0\n",
              "rating_count           2\n",
              "about_product          0\n",
              "user_id                0\n",
              "user_name              0\n",
              "review_id              0\n",
              "review_title           0\n",
              "review_content         0\n",
              "img_link               0\n",
              "product_link           0\n",
              "dtype: int64"
            ]
          },
          "metadata": {},
          "execution_count": 3
        }
      ]
    },
    {
      "cell_type": "code",
      "source": [
        "data.duplicated().values.any() # checking duplicates"
      ],
      "metadata": {
        "colab": {
          "base_uri": "https://localhost:8080/"
        },
        "id": "sslAOxHEScUh",
        "outputId": "5591b0d5-bc89-4125-b8b9-16f061fd0f96"
      },
      "execution_count": 4,
      "outputs": [
        {
          "output_type": "execute_result",
          "data": {
            "text/plain": [
              "False"
            ]
          },
          "metadata": {},
          "execution_count": 4
        }
      ]
    },
    {
      "cell_type": "code",
      "source": [
        "data['rating'].unique() # unique value of rating"
      ],
      "metadata": {
        "colab": {
          "base_uri": "https://localhost:8080/"
        },
        "id": "7V9I18ITXWkG",
        "outputId": "3aa39fac-ecee-4c98-b7bb-f0f8d546084f"
      },
      "execution_count": 5,
      "outputs": [
        {
          "output_type": "execute_result",
          "data": {
            "text/plain": [
              "array(['4.2', '4.0', '3.9', '4.1', '4.3', '4.4', '4.5', '3.7', '3.3',\n",
              "       '3.6', '3.4', '3.8', '3.5', '4.6', '3.2', '5.0', '4.7', '3.0',\n",
              "       '2.8', '4', '3.1', '4.8', '2.3', '|', '2', '3', '2.6', '2.9'],\n",
              "      dtype=object)"
            ]
          },
          "metadata": {},
          "execution_count": 5
        }
      ]
    },
    {
      "cell_type": "code",
      "source": [
        "data.drop(index=1279 , inplace= True) # drop the special charater in rating column"
      ],
      "metadata": {
        "id": "Wg8AU291XZVX"
      },
      "execution_count": 6,
      "outputs": []
    },
    {
      "cell_type": "code",
      "source": [
        "# Replace special charaters with white space\n",
        "data['discounted_price'] = data['discounted_price'].str.replace('₹' , '')\n",
        "data['discounted_price'] = data['discounted_price'].str.replace(',' , '')\n",
        "data['actual_price'] = data['actual_price'].str.replace('₹' , '')\n",
        "data['actual_price'] = data['actual_price'].str.replace(',' , '')\n",
        "data['discount_percentage'] = data['discount_percentage'].str.replace('%' , '')\n",
        "data['rating_count'] = data['rating_count'].str.replace(',' , '')"
      ],
      "metadata": {
        "id": "OQ4L5mrhW-Ks"
      },
      "execution_count": 7,
      "outputs": []
    },
    {
      "cell_type": "code",
      "source": [
        "# Convert data types \n",
        "data['discounted_price'] = data['discounted_price'].astype('float64') \n",
        "data['actual_price'] = data['actual_price'].astype('float64') \n",
        "data['discount_percentage'] = data['discount_percentage'].astype('float64')\n",
        "data['rating_count'] = data['rating_count'].astype('float64')\n",
        "data['rating'] = data['rating'].astype('float64')"
      ],
      "metadata": {
        "id": "DfttZOmQWqQg"
      },
      "execution_count": 8,
      "outputs": []
    },
    {
      "cell_type": "code",
      "source": [
        "# FillNa with mean \n",
        "rating_count_mean = data['rating_count'].mean()\n",
        "data['rating_count'] = data['rating_count'].fillna(rating_count_mean)"
      ],
      "metadata": {
        "id": "W2dRbX2xVHAs"
      },
      "execution_count": 9,
      "outputs": []
    },
    {
      "cell_type": "markdown",
      "source": [
        "### Popularity Based Recommendation"
      ],
      "metadata": {
        "id": "yCkxfZ2YTUEI"
      }
    },
    {
      "cell_type": "markdown",
      "source": [
        "The rating counts data can be used to improve the accuracy of popularity-based recommendations. Popularity-based recommendations simply recommend the most popular products to all users. However, not all products are equally popular, and some products may be more popular with certain users than others. By incorporating rating counts data, you can adjust the popularity of each product based on the number of users who have rated it, which can help to provide more personalized recommendations."
      ],
      "metadata": {
        "id": "ECcL1stPdED7"
      }
    },
    {
      "cell_type": "code",
      "source": [
        "popular_data = data[[\"product_id\",\"user_id\",\"rating\",\"rating_count\"]]"
      ],
      "metadata": {
        "id": "Nb-CzeoHX8zk"
      },
      "execution_count": null,
      "outputs": []
    },
    {
      "cell_type": "code",
      "source": [
        "popular_data.head()"
      ],
      "metadata": {
        "colab": {
          "base_uri": "https://localhost:8080/",
          "height": 206
        },
        "id": "wdFu6hiBapzW",
        "outputId": "21f816f0-9f86-4390-9963-d5b83f931685"
      },
      "execution_count": null,
      "outputs": [
        {
          "output_type": "execute_result",
          "data": {
            "text/plain": [
              "   product_id                                            user_id  rating  \\\n",
              "0  B07JW9H4J1  AG3D6O4STAQKAY2UVGEUV46KN35Q,AHMY5CWJMMK5BJRBB...     4.2   \n",
              "1  B098NS6PVG  AECPFYFQVRUWC3KGNLJIOREFP5LQ,AGYYVPDD7YG7FYNBX...     4.0   \n",
              "2  B096MSW6CT  AGU3BBQ2V2DDAMOAKGFAWDDQ6QHA,AESFLDV2PT363T2AQ...     3.9   \n",
              "3  B08HDJ86NZ  AEWAZDZZJLQUYVOVGBEUKSLXHQ5A,AG5HTSFRRE6NL3M5S...     4.2   \n",
              "4  B08CF3B7N1  AE3Q6KSUK5P75D5HFYHCRAOLODSA,AFUGIFH5ZAFXRDSZH...     4.2   \n",
              "\n",
              "   rating_count  \n",
              "0       24269.0  \n",
              "1       43994.0  \n",
              "2        7928.0  \n",
              "3       94363.0  \n",
              "4       16905.0  "
            ],
            "text/html": [
              "\n",
              "  <div id=\"df-56057adf-9ddc-4d70-9147-2bead506faf5\">\n",
              "    <div class=\"colab-df-container\">\n",
              "      <div>\n",
              "<style scoped>\n",
              "    .dataframe tbody tr th:only-of-type {\n",
              "        vertical-align: middle;\n",
              "    }\n",
              "\n",
              "    .dataframe tbody tr th {\n",
              "        vertical-align: top;\n",
              "    }\n",
              "\n",
              "    .dataframe thead th {\n",
              "        text-align: right;\n",
              "    }\n",
              "</style>\n",
              "<table border=\"1\" class=\"dataframe\">\n",
              "  <thead>\n",
              "    <tr style=\"text-align: right;\">\n",
              "      <th></th>\n",
              "      <th>product_id</th>\n",
              "      <th>user_id</th>\n",
              "      <th>rating</th>\n",
              "      <th>rating_count</th>\n",
              "    </tr>\n",
              "  </thead>\n",
              "  <tbody>\n",
              "    <tr>\n",
              "      <th>0</th>\n",
              "      <td>B07JW9H4J1</td>\n",
              "      <td>AG3D6O4STAQKAY2UVGEUV46KN35Q,AHMY5CWJMMK5BJRBB...</td>\n",
              "      <td>4.2</td>\n",
              "      <td>24269.0</td>\n",
              "    </tr>\n",
              "    <tr>\n",
              "      <th>1</th>\n",
              "      <td>B098NS6PVG</td>\n",
              "      <td>AECPFYFQVRUWC3KGNLJIOREFP5LQ,AGYYVPDD7YG7FYNBX...</td>\n",
              "      <td>4.0</td>\n",
              "      <td>43994.0</td>\n",
              "    </tr>\n",
              "    <tr>\n",
              "      <th>2</th>\n",
              "      <td>B096MSW6CT</td>\n",
              "      <td>AGU3BBQ2V2DDAMOAKGFAWDDQ6QHA,AESFLDV2PT363T2AQ...</td>\n",
              "      <td>3.9</td>\n",
              "      <td>7928.0</td>\n",
              "    </tr>\n",
              "    <tr>\n",
              "      <th>3</th>\n",
              "      <td>B08HDJ86NZ</td>\n",
              "      <td>AEWAZDZZJLQUYVOVGBEUKSLXHQ5A,AG5HTSFRRE6NL3M5S...</td>\n",
              "      <td>4.2</td>\n",
              "      <td>94363.0</td>\n",
              "    </tr>\n",
              "    <tr>\n",
              "      <th>4</th>\n",
              "      <td>B08CF3B7N1</td>\n",
              "      <td>AE3Q6KSUK5P75D5HFYHCRAOLODSA,AFUGIFH5ZAFXRDSZH...</td>\n",
              "      <td>4.2</td>\n",
              "      <td>16905.0</td>\n",
              "    </tr>\n",
              "  </tbody>\n",
              "</table>\n",
              "</div>\n",
              "      <button class=\"colab-df-convert\" onclick=\"convertToInteractive('df-56057adf-9ddc-4d70-9147-2bead506faf5')\"\n",
              "              title=\"Convert this dataframe to an interactive table.\"\n",
              "              style=\"display:none;\">\n",
              "        \n",
              "  <svg xmlns=\"http://www.w3.org/2000/svg\" height=\"24px\"viewBox=\"0 0 24 24\"\n",
              "       width=\"24px\">\n",
              "    <path d=\"M0 0h24v24H0V0z\" fill=\"none\"/>\n",
              "    <path d=\"M18.56 5.44l.94 2.06.94-2.06 2.06-.94-2.06-.94-.94-2.06-.94 2.06-2.06.94zm-11 1L8.5 8.5l.94-2.06 2.06-.94-2.06-.94L8.5 2.5l-.94 2.06-2.06.94zm10 10l.94 2.06.94-2.06 2.06-.94-2.06-.94-.94-2.06-.94 2.06-2.06.94z\"/><path d=\"M17.41 7.96l-1.37-1.37c-.4-.4-.92-.59-1.43-.59-.52 0-1.04.2-1.43.59L10.3 9.45l-7.72 7.72c-.78.78-.78 2.05 0 2.83L4 21.41c.39.39.9.59 1.41.59.51 0 1.02-.2 1.41-.59l7.78-7.78 2.81-2.81c.8-.78.8-2.07 0-2.86zM5.41 20L4 18.59l7.72-7.72 1.47 1.35L5.41 20z\"/>\n",
              "  </svg>\n",
              "      </button>\n",
              "      \n",
              "  <style>\n",
              "    .colab-df-container {\n",
              "      display:flex;\n",
              "      flex-wrap:wrap;\n",
              "      gap: 12px;\n",
              "    }\n",
              "\n",
              "    .colab-df-convert {\n",
              "      background-color: #E8F0FE;\n",
              "      border: none;\n",
              "      border-radius: 50%;\n",
              "      cursor: pointer;\n",
              "      display: none;\n",
              "      fill: #1967D2;\n",
              "      height: 32px;\n",
              "      padding: 0 0 0 0;\n",
              "      width: 32px;\n",
              "    }\n",
              "\n",
              "    .colab-df-convert:hover {\n",
              "      background-color: #E2EBFA;\n",
              "      box-shadow: 0px 1px 2px rgba(60, 64, 67, 0.3), 0px 1px 3px 1px rgba(60, 64, 67, 0.15);\n",
              "      fill: #174EA6;\n",
              "    }\n",
              "\n",
              "    [theme=dark] .colab-df-convert {\n",
              "      background-color: #3B4455;\n",
              "      fill: #D2E3FC;\n",
              "    }\n",
              "\n",
              "    [theme=dark] .colab-df-convert:hover {\n",
              "      background-color: #434B5C;\n",
              "      box-shadow: 0px 1px 3px 1px rgba(0, 0, 0, 0.15);\n",
              "      filter: drop-shadow(0px 1px 2px rgba(0, 0, 0, 0.3));\n",
              "      fill: #FFFFFF;\n",
              "    }\n",
              "  </style>\n",
              "\n",
              "      <script>\n",
              "        const buttonEl =\n",
              "          document.querySelector('#df-56057adf-9ddc-4d70-9147-2bead506faf5 button.colab-df-convert');\n",
              "        buttonEl.style.display =\n",
              "          google.colab.kernel.accessAllowed ? 'block' : 'none';\n",
              "\n",
              "        async function convertToInteractive(key) {\n",
              "          const element = document.querySelector('#df-56057adf-9ddc-4d70-9147-2bead506faf5');\n",
              "          const dataTable =\n",
              "            await google.colab.kernel.invokeFunction('convertToInteractive',\n",
              "                                                     [key], {});\n",
              "          if (!dataTable) return;\n",
              "\n",
              "          const docLinkHtml = 'Like what you see? Visit the ' +\n",
              "            '<a target=\"_blank\" href=https://colab.research.google.com/notebooks/data_table.ipynb>data table notebook</a>'\n",
              "            + ' to learn more about interactive tables.';\n",
              "          element.innerHTML = '';\n",
              "          dataTable['output_type'] = 'display_data';\n",
              "          await google.colab.output.renderOutput(dataTable, element);\n",
              "          const docLink = document.createElement('div');\n",
              "          docLink.innerHTML = docLinkHtml;\n",
              "          element.appendChild(docLink);\n",
              "        }\n",
              "      </script>\n",
              "    </div>\n",
              "  </div>\n",
              "  "
            ]
          },
          "metadata": {},
          "execution_count": 12
        }
      ]
    },
    {
      "cell_type": "code",
      "source": [
        "# Calculate the popularity of each product\n",
        "popularity = popular_data.groupby('product_id')['user_id'].count().reset_index()\n",
        "popularity.rename(columns = {'user_id':'popularity'}, inplace = True)\n"
      ],
      "metadata": {
        "id": "Sq6kvxDHap0N"
      },
      "execution_count": null,
      "outputs": []
    },
    {
      "cell_type": "code",
      "source": [
        "# Calculate the average rating for each product\n",
        "average_rating = popular_data.groupby('product_id')['rating'].mean().reset_index()\n",
        "average_rating.rename(columns = {'rating':'average_rating'}, inplace = True)"
      ],
      "metadata": {
        "id": "B0dMBXaxap4c"
      },
      "execution_count": null,
      "outputs": []
    },
    {
      "cell_type": "code",
      "source": [
        "# Calculate the number of ratings for each product\n",
        "rating_counts = popular_data.groupby('product_id')['rating'].count().reset_index()\n",
        "rating_counts.rename(columns = {'rating':'rating_counts'}, inplace = True)\n"
      ],
      "metadata": {
        "id": "xzFX4khNbsKI"
      },
      "execution_count": null,
      "outputs": []
    },
    {
      "cell_type": "code",
      "source": [
        "# Merge the popularity, average rating, and rating counts data into a single dataframe\n",
        "product_data = pd.merge(popularity, average_rating, on='product_id')\n",
        "product_data = pd.merge(product_data, rating_counts, on='product_id')"
      ],
      "metadata": {
        "id": "w5rJMK8tbsK2"
      },
      "execution_count": null,
      "outputs": []
    },
    {
      "cell_type": "code",
      "source": [
        "# Sort the products by popularity, average rating, and rating counts\n",
        "sorted_products = product_data.sort_values(['popularity', 'average_rating', 'rating_counts'], \n",
        "                                            ascending=False)"
      ],
      "metadata": {
        "id": "yUlLriStbsM8"
      },
      "execution_count": null,
      "outputs": []
    },
    {
      "cell_type": "code",
      "source": [
        "# Print the top 10 most popular products\n",
        "print(sorted_products.head(10))"
      ],
      "metadata": {
        "colab": {
          "base_uri": "https://localhost:8080/"
        },
        "id": "9iGszs-kbsNs",
        "outputId": "7bc7f73b-a2a5-488a-aa37-76b6fd1ea2a8"
      },
      "execution_count": null,
      "outputs": [
        {
          "output_type": "stream",
          "name": "stdout",
          "text": [
            "      product_id  popularity  average_rating  rating_counts\n",
            "876   B09C6HXFC1           3             4.5              3\n",
            "472   B07XLCFSSN           3             4.4              3\n",
            "522   B083342NKJ           3             4.4              3\n",
            "1073  B09W5XR9RT           3             4.4              3\n",
            "172   B01GGKYKQM           3             4.3              3\n",
            "261   B077Z65HSD           3             4.3              3\n",
            "519   B082T6V3DT           3             4.3              3\n",
            "589   B08CF3D7QR           3             4.3              3\n",
            "614   B08DDRGWTJ           3             4.3              3\n",
            "346   B07JW9H4J1           3             4.2              3\n"
          ]
        }
      ]
    },
    {
      "cell_type": "markdown",
      "source": [
        "I've added three new dataframes: average_rating, rating_counts, and product_data. average_rating calculates the average rating for each product, rating_counts calculates the number of ratings for each product, and product_data combines all three dataframes into a single dataframe.\n",
        "\n",
        "We've also modified the sorting order of the sorted_products dataframe to take into account popularity, average rating, and rating counts, in that order. This ensures that the most popular products are listed first, but also takes into account the average rating and the number of ratings for each product."
      ],
      "metadata": {
        "id": "YH9zTBZkcwEN"
      }
    },
    {
      "cell_type": "markdown",
      "source": [
        "### Conten-Based Recommendation "
      ],
      "metadata": {
        "id": "gqiMnIV3euCh"
      }
    },
    {
      "cell_type": "markdown",
      "source": [
        "Content-based recommendation systems use information about the features or attributes of items to recommend similar items to users. These systems first create a profile or representation of each item based on its features or attributes, such as the genre, director, and actors for a movie, or the brand, color, and size for a clothing item. Then, they use this profile to find other items that are similar in feature space to the item being recommended. Content-based systems are useful when there is a lot of information about the items available, but may not be effective if users' preferences change over time or if there is not enough diversity in the features or attributes of the items."
      ],
      "metadata": {
        "id": "ybLmrYdpony0"
      }
    },
    {
      "cell_type": "code",
      "source": [
        "from sklearn.feature_extraction.text import TfidfVectorizer\n",
        "from sklearn.metrics.pairwise import cosine_similarity"
      ],
      "metadata": {
        "id": "X2JFR0P3fzak"
      },
      "execution_count": null,
      "outputs": []
    },
    {
      "cell_type": "code",
      "source": [
        "content_data=data[[\"product_id\",\"product_name\",\"about_product\"]]"
      ],
      "metadata": {
        "id": "UP_RT9lUfzfH"
      },
      "execution_count": null,
      "outputs": []
    },
    {
      "cell_type": "code",
      "source": [
        "content_data.head()"
      ],
      "metadata": {
        "colab": {
          "base_uri": "https://localhost:8080/",
          "height": 206
        },
        "id": "D26yCOJ2iU0C",
        "outputId": "18ef6474-e2ca-4412-b83c-df3348720335"
      },
      "execution_count": null,
      "outputs": [
        {
          "output_type": "execute_result",
          "data": {
            "text/plain": [
              "   product_id                                       product_name  \\\n",
              "0  B07JW9H4J1  Wayona Nylon Braided USB to Lightning Fast Cha...   \n",
              "1  B098NS6PVG  Ambrane Unbreakable 60W / 3A Fast Charging 1.5...   \n",
              "2  B096MSW6CT  Sounce Fast Phone Charging Cable & Data Sync U...   \n",
              "3  B08HDJ86NZ  boAt Deuce USB 300 2 in 1 Type-C & Micro USB S...   \n",
              "4  B08CF3B7N1  Portronics Konnect L 1.2M Fast Charging 3A 8 P...   \n",
              "\n",
              "                                       about_product  \n",
              "0  High Compatibility : Compatible With iPhone 12...  \n",
              "1  Compatible with all Type C enabled devices, be...  \n",
              "2  【 Fast Charger& Data Sync】-With built-in safet...  \n",
              "3  The boAt Deuce USB 300 2 in 1 cable is compati...  \n",
              "4  [CHARGE & SYNC FUNCTION]- This cable comes wit...  "
            ],
            "text/html": [
              "\n",
              "  <div id=\"df-08915c40-08c2-4260-a7ff-ead74ec2f1f3\">\n",
              "    <div class=\"colab-df-container\">\n",
              "      <div>\n",
              "<style scoped>\n",
              "    .dataframe tbody tr th:only-of-type {\n",
              "        vertical-align: middle;\n",
              "    }\n",
              "\n",
              "    .dataframe tbody tr th {\n",
              "        vertical-align: top;\n",
              "    }\n",
              "\n",
              "    .dataframe thead th {\n",
              "        text-align: right;\n",
              "    }\n",
              "</style>\n",
              "<table border=\"1\" class=\"dataframe\">\n",
              "  <thead>\n",
              "    <tr style=\"text-align: right;\">\n",
              "      <th></th>\n",
              "      <th>product_id</th>\n",
              "      <th>product_name</th>\n",
              "      <th>about_product</th>\n",
              "    </tr>\n",
              "  </thead>\n",
              "  <tbody>\n",
              "    <tr>\n",
              "      <th>0</th>\n",
              "      <td>B07JW9H4J1</td>\n",
              "      <td>Wayona Nylon Braided USB to Lightning Fast Cha...</td>\n",
              "      <td>High Compatibility : Compatible With iPhone 12...</td>\n",
              "    </tr>\n",
              "    <tr>\n",
              "      <th>1</th>\n",
              "      <td>B098NS6PVG</td>\n",
              "      <td>Ambrane Unbreakable 60W / 3A Fast Charging 1.5...</td>\n",
              "      <td>Compatible with all Type C enabled devices, be...</td>\n",
              "    </tr>\n",
              "    <tr>\n",
              "      <th>2</th>\n",
              "      <td>B096MSW6CT</td>\n",
              "      <td>Sounce Fast Phone Charging Cable &amp; Data Sync U...</td>\n",
              "      <td>【 Fast Charger&amp; Data Sync】-With built-in safet...</td>\n",
              "    </tr>\n",
              "    <tr>\n",
              "      <th>3</th>\n",
              "      <td>B08HDJ86NZ</td>\n",
              "      <td>boAt Deuce USB 300 2 in 1 Type-C &amp; Micro USB S...</td>\n",
              "      <td>The boAt Deuce USB 300 2 in 1 cable is compati...</td>\n",
              "    </tr>\n",
              "    <tr>\n",
              "      <th>4</th>\n",
              "      <td>B08CF3B7N1</td>\n",
              "      <td>Portronics Konnect L 1.2M Fast Charging 3A 8 P...</td>\n",
              "      <td>[CHARGE &amp; SYNC FUNCTION]- This cable comes wit...</td>\n",
              "    </tr>\n",
              "  </tbody>\n",
              "</table>\n",
              "</div>\n",
              "      <button class=\"colab-df-convert\" onclick=\"convertToInteractive('df-08915c40-08c2-4260-a7ff-ead74ec2f1f3')\"\n",
              "              title=\"Convert this dataframe to an interactive table.\"\n",
              "              style=\"display:none;\">\n",
              "        \n",
              "  <svg xmlns=\"http://www.w3.org/2000/svg\" height=\"24px\"viewBox=\"0 0 24 24\"\n",
              "       width=\"24px\">\n",
              "    <path d=\"M0 0h24v24H0V0z\" fill=\"none\"/>\n",
              "    <path d=\"M18.56 5.44l.94 2.06.94-2.06 2.06-.94-2.06-.94-.94-2.06-.94 2.06-2.06.94zm-11 1L8.5 8.5l.94-2.06 2.06-.94-2.06-.94L8.5 2.5l-.94 2.06-2.06.94zm10 10l.94 2.06.94-2.06 2.06-.94-2.06-.94-.94-2.06-.94 2.06-2.06.94z\"/><path d=\"M17.41 7.96l-1.37-1.37c-.4-.4-.92-.59-1.43-.59-.52 0-1.04.2-1.43.59L10.3 9.45l-7.72 7.72c-.78.78-.78 2.05 0 2.83L4 21.41c.39.39.9.59 1.41.59.51 0 1.02-.2 1.41-.59l7.78-7.78 2.81-2.81c.8-.78.8-2.07 0-2.86zM5.41 20L4 18.59l7.72-7.72 1.47 1.35L5.41 20z\"/>\n",
              "  </svg>\n",
              "      </button>\n",
              "      \n",
              "  <style>\n",
              "    .colab-df-container {\n",
              "      display:flex;\n",
              "      flex-wrap:wrap;\n",
              "      gap: 12px;\n",
              "    }\n",
              "\n",
              "    .colab-df-convert {\n",
              "      background-color: #E8F0FE;\n",
              "      border: none;\n",
              "      border-radius: 50%;\n",
              "      cursor: pointer;\n",
              "      display: none;\n",
              "      fill: #1967D2;\n",
              "      height: 32px;\n",
              "      padding: 0 0 0 0;\n",
              "      width: 32px;\n",
              "    }\n",
              "\n",
              "    .colab-df-convert:hover {\n",
              "      background-color: #E2EBFA;\n",
              "      box-shadow: 0px 1px 2px rgba(60, 64, 67, 0.3), 0px 1px 3px 1px rgba(60, 64, 67, 0.15);\n",
              "      fill: #174EA6;\n",
              "    }\n",
              "\n",
              "    [theme=dark] .colab-df-convert {\n",
              "      background-color: #3B4455;\n",
              "      fill: #D2E3FC;\n",
              "    }\n",
              "\n",
              "    [theme=dark] .colab-df-convert:hover {\n",
              "      background-color: #434B5C;\n",
              "      box-shadow: 0px 1px 3px 1px rgba(0, 0, 0, 0.15);\n",
              "      filter: drop-shadow(0px 1px 2px rgba(0, 0, 0, 0.3));\n",
              "      fill: #FFFFFF;\n",
              "    }\n",
              "  </style>\n",
              "\n",
              "      <script>\n",
              "        const buttonEl =\n",
              "          document.querySelector('#df-08915c40-08c2-4260-a7ff-ead74ec2f1f3 button.colab-df-convert');\n",
              "        buttonEl.style.display =\n",
              "          google.colab.kernel.accessAllowed ? 'block' : 'none';\n",
              "\n",
              "        async function convertToInteractive(key) {\n",
              "          const element = document.querySelector('#df-08915c40-08c2-4260-a7ff-ead74ec2f1f3');\n",
              "          const dataTable =\n",
              "            await google.colab.kernel.invokeFunction('convertToInteractive',\n",
              "                                                     [key], {});\n",
              "          if (!dataTable) return;\n",
              "\n",
              "          const docLinkHtml = 'Like what you see? Visit the ' +\n",
              "            '<a target=\"_blank\" href=https://colab.research.google.com/notebooks/data_table.ipynb>data table notebook</a>'\n",
              "            + ' to learn more about interactive tables.';\n",
              "          element.innerHTML = '';\n",
              "          dataTable['output_type'] = 'display_data';\n",
              "          await google.colab.output.renderOutput(dataTable, element);\n",
              "          const docLink = document.createElement('div');\n",
              "          docLink.innerHTML = docLinkHtml;\n",
              "          element.appendChild(docLink);\n",
              "        }\n",
              "      </script>\n",
              "    </div>\n",
              "  </div>\n",
              "  "
            ]
          },
          "metadata": {},
          "execution_count": 21
        }
      ]
    },
    {
      "cell_type": "code",
      "source": [
        "# Create a product feature matrix using the product title and description\n",
        "content_data = content_data.fillna('') # Replace missing values with empty strings\n",
        "content_data['text'] = content_data['product_name'] + ' ' + content_data['about_product']\n"
      ],
      "metadata": {
        "id": "CB3aC5CXiU37"
      },
      "execution_count": null,
      "outputs": []
    },
    {
      "cell_type": "code",
      "source": [
        "# Vectorize the product feature matrix using TF-IDF\n",
        "vectorizer = TfidfVectorizer()\n",
        "product_vectors = vectorizer.fit_transform(content_data['text'])\n"
      ],
      "metadata": {
        "id": "hpTBTMZKiU4r"
      },
      "execution_count": null,
      "outputs": []
    },
    {
      "cell_type": "code",
      "source": [
        "# Calculate the cosine similarity between products based on their TF-IDF vectors\n",
        "product_similarity = cosine_similarity(product_vectors)"
      ],
      "metadata": {
        "id": "9ohV6grBkeij"
      },
      "execution_count": null,
      "outputs": []
    },
    {
      "cell_type": "code",
      "source": [
        "# Convert the similarity matrix into a dataframe for easier indexing\n",
        "product_similarity_df = pd.DataFrame(product_similarity, index=content_data['product_id'], \n",
        "                                      columns=content_data['product_id'])\n"
      ],
      "metadata": {
        "id": "9ESKMhhPkekE"
      },
      "execution_count": null,
      "outputs": []
    },
    {
      "cell_type": "code",
      "source": [
        "# Select a product to make recommendations for\n",
        "product_id = 'B098NS6PVG'"
      ],
      "metadata": {
        "id": "2Zg6UnA1keoC"
      },
      "execution_count": null,
      "outputs": []
    },
    {
      "cell_type": "code",
      "source": [
        "# Find the most similar products to the selected product\n",
        "#similar_products = product_similarity_df[product_id].sort_values(ascending=False).index.tolist()\n",
        "\n",
        "# Find the most similar products to the selected product\n",
        "similar_products = product_similarity_df[product_id].sort_values(by='product_id',ascending=False)[1:6].index.tolist()\n",
        "\n",
        "# Print the recommended products"
      ],
      "metadata": {
        "id": "e-8hKnl6lEwc"
      },
      "execution_count": null,
      "outputs": []
    },
    {
      "cell_type": "code",
      "source": [
        "# Print the recommended products\n",
        "print('Recommended products for {}:'.format(product_id))\n",
        "for i, product in enumerate(similar_products):\n",
        "    print('{}. {}'.format(i+1, product))"
      ],
      "metadata": {
        "colab": {
          "base_uri": "https://localhost:8080/"
        },
        "id": "xiYUp35DnPwx",
        "outputId": "e3223136-4d03-42df-efb0-b71fe7ea2e66"
      },
      "execution_count": null,
      "outputs": [
        {
          "output_type": "stream",
          "name": "stdout",
          "text": [
            "Recommended products for B098NS6PVG:\n",
            "1. B0BQRJ3C47\n",
            "2. B0BQ3K23Y1\n",
            "3. B0BPJBTB3F\n",
            "4. B0BPCJM7TB\n",
            "5. B0BPBXNQQT\n"
          ]
        }
      ]
    },
    {
      "cell_type": "markdown",
      "source": [
        " we use the product title and description as the product features, and vectorize them using TF-IDF. We then calculate the cosine similarity between products based on their TF-IDF vectors, and use this similarity to identify the most similar products to the selected product. Finally, we print the top recommended products."
      ],
      "metadata": {
        "id": "oKUq6753o704"
      }
    },
    {
      "cell_type": "markdown",
      "source": [
        "### Collaborative filtering recommendation system"
      ],
      "metadata": {
        "id": "IMsLNwhWr_M9"
      }
    },
    {
      "cell_type": "code",
      "source": [
        "collab_data=data[[\"product_id\",\"user_id\",\"rating\"]]"
      ],
      "metadata": {
        "id": "HLZzxBVnrLLD"
      },
      "execution_count": null,
      "outputs": []
    },
    {
      "cell_type": "code",
      "source": [
        "collab_data.head()"
      ],
      "metadata": {
        "colab": {
          "base_uri": "https://localhost:8080/",
          "height": 206
        },
        "id": "wQqRYGOZuwWS",
        "outputId": "a00d7bc9-0c9a-468b-d644-31cf4e90be45"
      },
      "execution_count": null,
      "outputs": [
        {
          "output_type": "execute_result",
          "data": {
            "text/plain": [
              "   product_id                                            user_id  rating\n",
              "0  B07JW9H4J1  AG3D6O4STAQKAY2UVGEUV46KN35Q,AHMY5CWJMMK5BJRBB...     4.2\n",
              "1  B098NS6PVG  AECPFYFQVRUWC3KGNLJIOREFP5LQ,AGYYVPDD7YG7FYNBX...     4.0\n",
              "2  B096MSW6CT  AGU3BBQ2V2DDAMOAKGFAWDDQ6QHA,AESFLDV2PT363T2AQ...     3.9\n",
              "3  B08HDJ86NZ  AEWAZDZZJLQUYVOVGBEUKSLXHQ5A,AG5HTSFRRE6NL3M5S...     4.2\n",
              "4  B08CF3B7N1  AE3Q6KSUK5P75D5HFYHCRAOLODSA,AFUGIFH5ZAFXRDSZH...     4.2"
            ],
            "text/html": [
              "\n",
              "  <div id=\"df-d931b9a1-b9a8-44b3-8f8a-79cab9dcb6d7\">\n",
              "    <div class=\"colab-df-container\">\n",
              "      <div>\n",
              "<style scoped>\n",
              "    .dataframe tbody tr th:only-of-type {\n",
              "        vertical-align: middle;\n",
              "    }\n",
              "\n",
              "    .dataframe tbody tr th {\n",
              "        vertical-align: top;\n",
              "    }\n",
              "\n",
              "    .dataframe thead th {\n",
              "        text-align: right;\n",
              "    }\n",
              "</style>\n",
              "<table border=\"1\" class=\"dataframe\">\n",
              "  <thead>\n",
              "    <tr style=\"text-align: right;\">\n",
              "      <th></th>\n",
              "      <th>product_id</th>\n",
              "      <th>user_id</th>\n",
              "      <th>rating</th>\n",
              "    </tr>\n",
              "  </thead>\n",
              "  <tbody>\n",
              "    <tr>\n",
              "      <th>0</th>\n",
              "      <td>B07JW9H4J1</td>\n",
              "      <td>AG3D6O4STAQKAY2UVGEUV46KN35Q,AHMY5CWJMMK5BJRBB...</td>\n",
              "      <td>4.2</td>\n",
              "    </tr>\n",
              "    <tr>\n",
              "      <th>1</th>\n",
              "      <td>B098NS6PVG</td>\n",
              "      <td>AECPFYFQVRUWC3KGNLJIOREFP5LQ,AGYYVPDD7YG7FYNBX...</td>\n",
              "      <td>4.0</td>\n",
              "    </tr>\n",
              "    <tr>\n",
              "      <th>2</th>\n",
              "      <td>B096MSW6CT</td>\n",
              "      <td>AGU3BBQ2V2DDAMOAKGFAWDDQ6QHA,AESFLDV2PT363T2AQ...</td>\n",
              "      <td>3.9</td>\n",
              "    </tr>\n",
              "    <tr>\n",
              "      <th>3</th>\n",
              "      <td>B08HDJ86NZ</td>\n",
              "      <td>AEWAZDZZJLQUYVOVGBEUKSLXHQ5A,AG5HTSFRRE6NL3M5S...</td>\n",
              "      <td>4.2</td>\n",
              "    </tr>\n",
              "    <tr>\n",
              "      <th>4</th>\n",
              "      <td>B08CF3B7N1</td>\n",
              "      <td>AE3Q6KSUK5P75D5HFYHCRAOLODSA,AFUGIFH5ZAFXRDSZH...</td>\n",
              "      <td>4.2</td>\n",
              "    </tr>\n",
              "  </tbody>\n",
              "</table>\n",
              "</div>\n",
              "      <button class=\"colab-df-convert\" onclick=\"convertToInteractive('df-d931b9a1-b9a8-44b3-8f8a-79cab9dcb6d7')\"\n",
              "              title=\"Convert this dataframe to an interactive table.\"\n",
              "              style=\"display:none;\">\n",
              "        \n",
              "  <svg xmlns=\"http://www.w3.org/2000/svg\" height=\"24px\"viewBox=\"0 0 24 24\"\n",
              "       width=\"24px\">\n",
              "    <path d=\"M0 0h24v24H0V0z\" fill=\"none\"/>\n",
              "    <path d=\"M18.56 5.44l.94 2.06.94-2.06 2.06-.94-2.06-.94-.94-2.06-.94 2.06-2.06.94zm-11 1L8.5 8.5l.94-2.06 2.06-.94-2.06-.94L8.5 2.5l-.94 2.06-2.06.94zm10 10l.94 2.06.94-2.06 2.06-.94-2.06-.94-.94-2.06-.94 2.06-2.06.94z\"/><path d=\"M17.41 7.96l-1.37-1.37c-.4-.4-.92-.59-1.43-.59-.52 0-1.04.2-1.43.59L10.3 9.45l-7.72 7.72c-.78.78-.78 2.05 0 2.83L4 21.41c.39.39.9.59 1.41.59.51 0 1.02-.2 1.41-.59l7.78-7.78 2.81-2.81c.8-.78.8-2.07 0-2.86zM5.41 20L4 18.59l7.72-7.72 1.47 1.35L5.41 20z\"/>\n",
              "  </svg>\n",
              "      </button>\n",
              "      \n",
              "  <style>\n",
              "    .colab-df-container {\n",
              "      display:flex;\n",
              "      flex-wrap:wrap;\n",
              "      gap: 12px;\n",
              "    }\n",
              "\n",
              "    .colab-df-convert {\n",
              "      background-color: #E8F0FE;\n",
              "      border: none;\n",
              "      border-radius: 50%;\n",
              "      cursor: pointer;\n",
              "      display: none;\n",
              "      fill: #1967D2;\n",
              "      height: 32px;\n",
              "      padding: 0 0 0 0;\n",
              "      width: 32px;\n",
              "    }\n",
              "\n",
              "    .colab-df-convert:hover {\n",
              "      background-color: #E2EBFA;\n",
              "      box-shadow: 0px 1px 2px rgba(60, 64, 67, 0.3), 0px 1px 3px 1px rgba(60, 64, 67, 0.15);\n",
              "      fill: #174EA6;\n",
              "    }\n",
              "\n",
              "    [theme=dark] .colab-df-convert {\n",
              "      background-color: #3B4455;\n",
              "      fill: #D2E3FC;\n",
              "    }\n",
              "\n",
              "    [theme=dark] .colab-df-convert:hover {\n",
              "      background-color: #434B5C;\n",
              "      box-shadow: 0px 1px 3px 1px rgba(0, 0, 0, 0.15);\n",
              "      filter: drop-shadow(0px 1px 2px rgba(0, 0, 0, 0.3));\n",
              "      fill: #FFFFFF;\n",
              "    }\n",
              "  </style>\n",
              "\n",
              "      <script>\n",
              "        const buttonEl =\n",
              "          document.querySelector('#df-d931b9a1-b9a8-44b3-8f8a-79cab9dcb6d7 button.colab-df-convert');\n",
              "        buttonEl.style.display =\n",
              "          google.colab.kernel.accessAllowed ? 'block' : 'none';\n",
              "\n",
              "        async function convertToInteractive(key) {\n",
              "          const element = document.querySelector('#df-d931b9a1-b9a8-44b3-8f8a-79cab9dcb6d7');\n",
              "          const dataTable =\n",
              "            await google.colab.kernel.invokeFunction('convertToInteractive',\n",
              "                                                     [key], {});\n",
              "          if (!dataTable) return;\n",
              "\n",
              "          const docLinkHtml = 'Like what you see? Visit the ' +\n",
              "            '<a target=\"_blank\" href=https://colab.research.google.com/notebooks/data_table.ipynb>data table notebook</a>'\n",
              "            + ' to learn more about interactive tables.';\n",
              "          element.innerHTML = '';\n",
              "          dataTable['output_type'] = 'display_data';\n",
              "          await google.colab.output.renderOutput(dataTable, element);\n",
              "          const docLink = document.createElement('div');\n",
              "          docLink.innerHTML = docLinkHtml;\n",
              "          element.appendChild(docLink);\n",
              "        }\n",
              "      </script>\n",
              "    </div>\n",
              "  </div>\n",
              "  "
            ]
          },
          "metadata": {},
          "execution_count": 30
        }
      ]
    },
    {
      "cell_type": "code",
      "source": [
        "pip install scikit-surprise"
      ],
      "metadata": {
        "colab": {
          "base_uri": "https://localhost:8080/"
        },
        "id": "bmp_oIKPw2df",
        "outputId": "fd3131f5-64f9-489d-dd73-f5473dff5952"
      },
      "execution_count": null,
      "outputs": [
        {
          "output_type": "stream",
          "name": "stdout",
          "text": [
            "Looking in indexes: https://pypi.org/simple, https://us-python.pkg.dev/colab-wheels/public/simple/\n",
            "Collecting scikit-surprise\n",
            "  Downloading scikit-surprise-1.1.3.tar.gz (771 kB)\n",
            "\u001b[?25l     \u001b[90m━━━━━━━━━━━━━━━━━━━━━━━━━━━━━━━━━━━━━━━━\u001b[0m \u001b[32m0.0/772.0 KB\u001b[0m \u001b[31m?\u001b[0m eta \u001b[36m-:--:--\u001b[0m\r\u001b[2K     \u001b[91m━━━━━━━━━━━━━━━━━━━\u001b[0m\u001b[90m╺\u001b[0m\u001b[90m━━━━━━━━━━━━━━━━━━\u001b[0m \u001b[32m389.1/772.0 KB\u001b[0m \u001b[31m11.5 MB/s\u001b[0m eta \u001b[36m0:00:01\u001b[0m\r\u001b[2K     \u001b[90m━━━━━━━━━━━━━━━━━━━━━━━━━━━━━━━━━━━━━━\u001b[0m \u001b[32m772.0/772.0 KB\u001b[0m \u001b[31m13.6 MB/s\u001b[0m eta \u001b[36m0:00:00\u001b[0m\n",
            "\u001b[?25h  Preparing metadata (setup.py) ... \u001b[?25l\u001b[?25hdone\n",
            "Requirement already satisfied: joblib>=1.0.0 in /usr/local/lib/python3.9/dist-packages (from scikit-surprise) (1.1.1)\n",
            "Requirement already satisfied: numpy>=1.17.3 in /usr/local/lib/python3.9/dist-packages (from scikit-surprise) (1.22.4)\n",
            "Requirement already satisfied: scipy>=1.3.2 in /usr/local/lib/python3.9/dist-packages (from scikit-surprise) (1.10.1)\n",
            "Building wheels for collected packages: scikit-surprise\n",
            "  Building wheel for scikit-surprise (setup.py) ... \u001b[?25l\u001b[?25hdone\n",
            "  Created wheel for scikit-surprise: filename=scikit_surprise-1.1.3-cp39-cp39-linux_x86_64.whl size=3193679 sha256=8dc8b1fae1f4e6bdfeaef36cda3fa587a49818f78edf501a5de0da11ccddb661\n",
            "  Stored in directory: /root/.cache/pip/wheels/c6/3a/46/9b17b3512bdf283c6cb84f59929cdd5199d4e754d596d22784\n",
            "Successfully built scikit-surprise\n",
            "Installing collected packages: scikit-surprise\n",
            "Successfully installed scikit-surprise-1.1.3\n"
          ]
        }
      ]
    },
    {
      "cell_type": "code",
      "source": [
        "import pandas as pd\n",
        "from surprise import Dataset\n",
        "from surprise import Reader\n",
        "from surprise import SVD\n",
        "from surprise.model_selection import cross_validate"
      ],
      "metadata": {
        "id": "oRyg0xvot4eS"
      },
      "execution_count": null,
      "outputs": []
    },
    {
      "cell_type": "code",
      "source": [
        "# Define the reader to read the data with the Surprise library\n",
        "reader = Reader(rating_scale=(1, 5))\n"
      ],
      "metadata": {
        "id": "knYS-y0kt4jW"
      },
      "execution_count": null,
      "outputs": []
    },
    {
      "cell_type": "code",
      "source": [
        "# Load the data into the Surprise library's Dataset format\n",
        "data = Dataset.load_from_df(collab_data[['user_id', 'product_id', 'rating']], reader)\n"
      ],
      "metadata": {
        "id": "0S675r1JxIdv"
      },
      "execution_count": null,
      "outputs": []
    },
    {
      "cell_type": "code",
      "source": [
        "# Use the SVD algorithm for collaborative filtering\n",
        "algo = SVD()"
      ],
      "metadata": {
        "id": "YsEmvbk0xIeu"
      },
      "execution_count": null,
      "outputs": []
    },
    {
      "cell_type": "code",
      "source": [
        "# Evaluate the algorithm using cross-validation\n",
        "cross_validate(algo, data, measures=['RMSE', 'MAE'], cv=5, verbose=True)\n"
      ],
      "metadata": {
        "colab": {
          "base_uri": "https://localhost:8080/"
        },
        "id": "7mAk8N3Ht4kI",
        "outputId": "74ff04ea-d4cd-4eff-952a-9a5f9d3ebc89"
      },
      "execution_count": null,
      "outputs": [
        {
          "output_type": "stream",
          "name": "stdout",
          "text": [
            "Evaluating RMSE, MAE of algorithm SVD on 5 split(s).\n",
            "\n",
            "                  Fold 1  Fold 2  Fold 3  Fold 4  Fold 5  Mean    Std     \n",
            "RMSE (testset)    0.2727  0.2979  0.2708  0.2952  0.2823  0.2838  0.0112  \n",
            "MAE (testset)     0.2013  0.2033  0.2049  0.2039  0.2030  0.2033  0.0012  \n",
            "Fit time          0.03    0.02    0.02    0.02    0.02    0.02    0.00    \n",
            "Test time         0.00    0.00    0.00    0.00    0.00    0.00    0.00    \n"
          ]
        },
        {
          "output_type": "execute_result",
          "data": {
            "text/plain": [
              "{'test_rmse': array([0.27266718, 0.29791629, 0.27079461, 0.29516334, 0.28228692]),\n",
              " 'test_mae': array([0.20128686, 0.20326223, 0.20488575, 0.20385144, 0.20302115]),\n",
              " 'fit_time': (0.02573990821838379,\n",
              "  0.017937898635864258,\n",
              "  0.021818161010742188,\n",
              "  0.017704486846923828,\n",
              "  0.017697572708129883),\n",
              " 'test_time': (0.0017971992492675781,\n",
              "  0.0014145374298095703,\n",
              "  0.002096891403198242,\n",
              "  0.0013568401336669922,\n",
              "  0.0013804435729980469)}"
            ]
          },
          "metadata": {},
          "execution_count": 36
        }
      ]
    },
    {
      "cell_type": "code",
      "source": [
        "# Train the algorithm on the entire dataset\n",
        "trainset = data.build_full_trainset()\n",
        "algo.fit(trainset)"
      ],
      "metadata": {
        "colab": {
          "base_uri": "https://localhost:8080/"
        },
        "id": "qS2wiBaFxcgd",
        "outputId": "27048aee-704f-444c-92b7-207bbb220562"
      },
      "execution_count": null,
      "outputs": [
        {
          "output_type": "execute_result",
          "data": {
            "text/plain": [
              "<surprise.prediction_algorithms.matrix_factorization.SVD at 0x7fc3765125e0>"
            ]
          },
          "metadata": {},
          "execution_count": 37
        }
      ]
    },
    {
      "cell_type": "code",
      "source": [
        "# Select a user to make recommendations for\n",
        "user_id =100"
      ],
      "metadata": {
        "id": "OEQUci8fxchj"
      },
      "execution_count": null,
      "outputs": []
    },
    {
      "cell_type": "code",
      "source": [
        "# Get the products that the user has already rated\n",
        "rated_products = collab_data[collab_data['user_id'] ==user_id]['product_id'].unique()\n"
      ],
      "metadata": {
        "id": "h-ne2G5Sxclf"
      },
      "execution_count": null,
      "outputs": []
    },
    {
      "cell_type": "code",
      "source": [
        "# Create a list of all products that the user has not rated\n",
        "unrated_products = collab_data[~collab_data['product_id'].isin(rated_products)]['product_id'].unique()\n"
      ],
      "metadata": {
        "id": "vFsh0_jDx6D5"
      },
      "execution_count": null,
      "outputs": []
    },
    {
      "cell_type": "code",
      "source": [
        "# Create a list of tuples with each unrated product and the predicted rating for the user\n",
        "predictions = []\n",
        "for product_id in unrated_products:\n",
        "    predicted_rating = algo.predict(user_id, product_id).est\n",
        "    predictions.append((product_id, predicted_rating))\n"
      ],
      "metadata": {
        "id": "5x3a5OJix6Ez"
      },
      "execution_count": null,
      "outputs": []
    },
    {
      "cell_type": "code",
      "source": [
        "# Sort the list of predictions by the predicted rating, in descending order\n",
        "predictions.sort(key=lambda x: x[1], reverse=True)"
      ],
      "metadata": {
        "id": "YoGu6QfDx6JG"
      },
      "execution_count": null,
      "outputs": []
    },
    {
      "cell_type": "code",
      "source": [
        "# Print the top 5 recommended products\n",
        "for i, (product_id, predicted_rating) in enumerate(predictions[:5]):\n",
        "    print(f\"Recommendation {i+1}: Product ID {product_id}, Predicted Rating {predicted_rating}\")\n"
      ],
      "metadata": {
        "colab": {
          "base_uri": "https://localhost:8080/"
        },
        "id": "Q-sT_dAR03Ba",
        "outputId": "b6312afa-59e3-4aee-e0eb-6eb10f23a805"
      },
      "execution_count": null,
      "outputs": [
        {
          "output_type": "stream",
          "name": "stdout",
          "text": [
            "Recommendation 1: Product ID B09ZHCJDP1, Predicted Rating 4.181107357449973\n",
            "Recommendation 2: Product ID B0BP7XLX48, Predicted Rating 4.173917864844586\n",
            "Recommendation 3: Product ID B0B9BXKBC7, Predicted Rating 4.173382355749152\n",
            "Recommendation 4: Product ID B0BQRJ3C47, Predicted Rating 4.165283734411774\n",
            "Recommendation 5: Product ID B09F6S8BT6, Predicted Rating 4.159482888310232\n"
          ]
        }
      ]
    },
    {
      "cell_type": "markdown",
      "source": [
        "### TensorFlow Recommendor "
      ],
      "metadata": {
        "id": "odZKLoobS7hD"
      }
    },
    {
      "cell_type": "markdown",
      "source": [
        "\n",
        "\n",
        "### Retrival Model "
      ],
      "metadata": {
        "id": "IabsK29a5CEu"
      }
    },
    {
      "cell_type": "code",
      "source": [
        "popular_data.head()"
      ],
      "metadata": {
        "colab": {
          "base_uri": "https://localhost:8080/",
          "height": 206
        },
        "id": "Dx6kcBap7-e7",
        "outputId": "87e52cb2-c2f5-41db-dff5-1a3ad909eee1"
      },
      "execution_count": null,
      "outputs": [
        {
          "output_type": "execute_result",
          "data": {
            "text/plain": [
              "   product_id                                            user_id  rating  \\\n",
              "0  B07JW9H4J1  AG3D6O4STAQKAY2UVGEUV46KN35Q,AHMY5CWJMMK5BJRBB...     4.2   \n",
              "1  B098NS6PVG  AECPFYFQVRUWC3KGNLJIOREFP5LQ,AGYYVPDD7YG7FYNBX...     4.0   \n",
              "2  B096MSW6CT  AGU3BBQ2V2DDAMOAKGFAWDDQ6QHA,AESFLDV2PT363T2AQ...     3.9   \n",
              "3  B08HDJ86NZ  AEWAZDZZJLQUYVOVGBEUKSLXHQ5A,AG5HTSFRRE6NL3M5S...     4.2   \n",
              "4  B08CF3B7N1  AE3Q6KSUK5P75D5HFYHCRAOLODSA,AFUGIFH5ZAFXRDSZH...     4.2   \n",
              "\n",
              "   rating_count  \n",
              "0       24269.0  \n",
              "1       43994.0  \n",
              "2        7928.0  \n",
              "3       94363.0  \n",
              "4       16905.0  "
            ],
            "text/html": [
              "\n",
              "  <div id=\"df-7b449593-9b45-4421-83b0-234eb16542b1\">\n",
              "    <div class=\"colab-df-container\">\n",
              "      <div>\n",
              "<style scoped>\n",
              "    .dataframe tbody tr th:only-of-type {\n",
              "        vertical-align: middle;\n",
              "    }\n",
              "\n",
              "    .dataframe tbody tr th {\n",
              "        vertical-align: top;\n",
              "    }\n",
              "\n",
              "    .dataframe thead th {\n",
              "        text-align: right;\n",
              "    }\n",
              "</style>\n",
              "<table border=\"1\" class=\"dataframe\">\n",
              "  <thead>\n",
              "    <tr style=\"text-align: right;\">\n",
              "      <th></th>\n",
              "      <th>product_id</th>\n",
              "      <th>user_id</th>\n",
              "      <th>rating</th>\n",
              "      <th>rating_count</th>\n",
              "    </tr>\n",
              "  </thead>\n",
              "  <tbody>\n",
              "    <tr>\n",
              "      <th>0</th>\n",
              "      <td>B07JW9H4J1</td>\n",
              "      <td>AG3D6O4STAQKAY2UVGEUV46KN35Q,AHMY5CWJMMK5BJRBB...</td>\n",
              "      <td>4.2</td>\n",
              "      <td>24269.0</td>\n",
              "    </tr>\n",
              "    <tr>\n",
              "      <th>1</th>\n",
              "      <td>B098NS6PVG</td>\n",
              "      <td>AECPFYFQVRUWC3KGNLJIOREFP5LQ,AGYYVPDD7YG7FYNBX...</td>\n",
              "      <td>4.0</td>\n",
              "      <td>43994.0</td>\n",
              "    </tr>\n",
              "    <tr>\n",
              "      <th>2</th>\n",
              "      <td>B096MSW6CT</td>\n",
              "      <td>AGU3BBQ2V2DDAMOAKGFAWDDQ6QHA,AESFLDV2PT363T2AQ...</td>\n",
              "      <td>3.9</td>\n",
              "      <td>7928.0</td>\n",
              "    </tr>\n",
              "    <tr>\n",
              "      <th>3</th>\n",
              "      <td>B08HDJ86NZ</td>\n",
              "      <td>AEWAZDZZJLQUYVOVGBEUKSLXHQ5A,AG5HTSFRRE6NL3M5S...</td>\n",
              "      <td>4.2</td>\n",
              "      <td>94363.0</td>\n",
              "    </tr>\n",
              "    <tr>\n",
              "      <th>4</th>\n",
              "      <td>B08CF3B7N1</td>\n",
              "      <td>AE3Q6KSUK5P75D5HFYHCRAOLODSA,AFUGIFH5ZAFXRDSZH...</td>\n",
              "      <td>4.2</td>\n",
              "      <td>16905.0</td>\n",
              "    </tr>\n",
              "  </tbody>\n",
              "</table>\n",
              "</div>\n",
              "      <button class=\"colab-df-convert\" onclick=\"convertToInteractive('df-7b449593-9b45-4421-83b0-234eb16542b1')\"\n",
              "              title=\"Convert this dataframe to an interactive table.\"\n",
              "              style=\"display:none;\">\n",
              "        \n",
              "  <svg xmlns=\"http://www.w3.org/2000/svg\" height=\"24px\"viewBox=\"0 0 24 24\"\n",
              "       width=\"24px\">\n",
              "    <path d=\"M0 0h24v24H0V0z\" fill=\"none\"/>\n",
              "    <path d=\"M18.56 5.44l.94 2.06.94-2.06 2.06-.94-2.06-.94-.94-2.06-.94 2.06-2.06.94zm-11 1L8.5 8.5l.94-2.06 2.06-.94-2.06-.94L8.5 2.5l-.94 2.06-2.06.94zm10 10l.94 2.06.94-2.06 2.06-.94-2.06-.94-.94-2.06-.94 2.06-2.06.94z\"/><path d=\"M17.41 7.96l-1.37-1.37c-.4-.4-.92-.59-1.43-.59-.52 0-1.04.2-1.43.59L10.3 9.45l-7.72 7.72c-.78.78-.78 2.05 0 2.83L4 21.41c.39.39.9.59 1.41.59.51 0 1.02-.2 1.41-.59l7.78-7.78 2.81-2.81c.8-.78.8-2.07 0-2.86zM5.41 20L4 18.59l7.72-7.72 1.47 1.35L5.41 20z\"/>\n",
              "  </svg>\n",
              "      </button>\n",
              "      \n",
              "  <style>\n",
              "    .colab-df-container {\n",
              "      display:flex;\n",
              "      flex-wrap:wrap;\n",
              "      gap: 12px;\n",
              "    }\n",
              "\n",
              "    .colab-df-convert {\n",
              "      background-color: #E8F0FE;\n",
              "      border: none;\n",
              "      border-radius: 50%;\n",
              "      cursor: pointer;\n",
              "      display: none;\n",
              "      fill: #1967D2;\n",
              "      height: 32px;\n",
              "      padding: 0 0 0 0;\n",
              "      width: 32px;\n",
              "    }\n",
              "\n",
              "    .colab-df-convert:hover {\n",
              "      background-color: #E2EBFA;\n",
              "      box-shadow: 0px 1px 2px rgba(60, 64, 67, 0.3), 0px 1px 3px 1px rgba(60, 64, 67, 0.15);\n",
              "      fill: #174EA6;\n",
              "    }\n",
              "\n",
              "    [theme=dark] .colab-df-convert {\n",
              "      background-color: #3B4455;\n",
              "      fill: #D2E3FC;\n",
              "    }\n",
              "\n",
              "    [theme=dark] .colab-df-convert:hover {\n",
              "      background-color: #434B5C;\n",
              "      box-shadow: 0px 1px 3px 1px rgba(0, 0, 0, 0.15);\n",
              "      filter: drop-shadow(0px 1px 2px rgba(0, 0, 0, 0.3));\n",
              "      fill: #FFFFFF;\n",
              "    }\n",
              "  </style>\n",
              "\n",
              "      <script>\n",
              "        const buttonEl =\n",
              "          document.querySelector('#df-7b449593-9b45-4421-83b0-234eb16542b1 button.colab-df-convert');\n",
              "        buttonEl.style.display =\n",
              "          google.colab.kernel.accessAllowed ? 'block' : 'none';\n",
              "\n",
              "        async function convertToInteractive(key) {\n",
              "          const element = document.querySelector('#df-7b449593-9b45-4421-83b0-234eb16542b1');\n",
              "          const dataTable =\n",
              "            await google.colab.kernel.invokeFunction('convertToInteractive',\n",
              "                                                     [key], {});\n",
              "          if (!dataTable) return;\n",
              "\n",
              "          const docLinkHtml = 'Like what you see? Visit the ' +\n",
              "            '<a target=\"_blank\" href=https://colab.research.google.com/notebooks/data_table.ipynb>data table notebook</a>'\n",
              "            + ' to learn more about interactive tables.';\n",
              "          element.innerHTML = '';\n",
              "          dataTable['output_type'] = 'display_data';\n",
              "          await google.colab.output.renderOutput(dataTable, element);\n",
              "          const docLink = document.createElement('div');\n",
              "          docLink.innerHTML = docLinkHtml;\n",
              "          element.appendChild(docLink);\n",
              "        }\n",
              "      </script>\n",
              "    </div>\n",
              "  </div>\n",
              "  "
            ]
          },
          "metadata": {},
          "execution_count": 156
        }
      ]
    },
    {
      "cell_type": "code",
      "source": [
        "data=popular_data.copy()"
      ],
      "metadata": {
        "id": "7Vb3S6Ja8CJW"
      },
      "execution_count": null,
      "outputs": []
    },
    {
      "cell_type": "code",
      "source": [
        "pip install tensorflow-recommenders"
      ],
      "metadata": {
        "colab": {
          "base_uri": "https://localhost:8080/"
        },
        "id": "BwfYl5a5-0We",
        "outputId": "a7c2705b-2f89-4dde-a4ab-040156ad70d9"
      },
      "execution_count": null,
      "outputs": [
        {
          "output_type": "stream",
          "name": "stdout",
          "text": [
            "Looking in indexes: https://pypi.org/simple, https://us-python.pkg.dev/colab-wheels/public/simple/\n",
            "Collecting tensorflow-recommenders\n",
            "  Downloading tensorflow_recommenders-0.7.3-py3-none-any.whl (96 kB)\n",
            "\u001b[?25l     \u001b[90m━━━━━━━━━━━━━━━━━━━━━━━━━━━━━━━━━━━━━━━━\u001b[0m \u001b[32m0.0/96.2 KB\u001b[0m \u001b[31m?\u001b[0m eta \u001b[36m-:--:--\u001b[0m\r\u001b[2K     \u001b[90m━━━━━━━━━━━━━━━━━━━━━━━━━━━━━━━━━━━━━━━━\u001b[0m \u001b[32m96.2/96.2 KB\u001b[0m \u001b[31m4.2 MB/s\u001b[0m eta \u001b[36m0:00:00\u001b[0m\n",
            "\u001b[?25hRequirement already satisfied: absl-py>=0.1.6 in /usr/local/lib/python3.9/dist-packages (from tensorflow-recommenders) (1.4.0)\n",
            "Requirement already satisfied: tensorflow>=2.9.0 in /usr/local/lib/python3.9/dist-packages (from tensorflow-recommenders) (2.11.0)\n",
            "Requirement already satisfied: gast<=0.4.0,>=0.2.1 in /usr/local/lib/python3.9/dist-packages (from tensorflow>=2.9.0->tensorflow-recommenders) (0.4.0)\n",
            "Requirement already satisfied: libclang>=13.0.0 in /usr/local/lib/python3.9/dist-packages (from tensorflow>=2.9.0->tensorflow-recommenders) (15.0.6.1)\n",
            "Requirement already satisfied: tensorflow-io-gcs-filesystem>=0.23.1 in /usr/local/lib/python3.9/dist-packages (from tensorflow>=2.9.0->tensorflow-recommenders) (0.31.0)\n",
            "Requirement already satisfied: tensorboard<2.12,>=2.11 in /usr/local/lib/python3.9/dist-packages (from tensorflow>=2.9.0->tensorflow-recommenders) (2.11.2)\n",
            "Requirement already satisfied: opt-einsum>=2.3.2 in /usr/local/lib/python3.9/dist-packages (from tensorflow>=2.9.0->tensorflow-recommenders) (3.3.0)\n",
            "Requirement already satisfied: google-pasta>=0.1.1 in /usr/local/lib/python3.9/dist-packages (from tensorflow>=2.9.0->tensorflow-recommenders) (0.2.0)\n",
            "Requirement already satisfied: packaging in /usr/local/lib/python3.9/dist-packages (from tensorflow>=2.9.0->tensorflow-recommenders) (23.0)\n",
            "Requirement already satisfied: grpcio<2.0,>=1.24.3 in /usr/local/lib/python3.9/dist-packages (from tensorflow>=2.9.0->tensorflow-recommenders) (1.51.3)\n",
            "Requirement already satisfied: tensorflow-estimator<2.12,>=2.11.0 in /usr/local/lib/python3.9/dist-packages (from tensorflow>=2.9.0->tensorflow-recommenders) (2.11.0)\n",
            "Requirement already satisfied: numpy>=1.20 in /usr/local/lib/python3.9/dist-packages (from tensorflow>=2.9.0->tensorflow-recommenders) (1.22.4)\n",
            "Requirement already satisfied: astunparse>=1.6.0 in /usr/local/lib/python3.9/dist-packages (from tensorflow>=2.9.0->tensorflow-recommenders) (1.6.3)\n",
            "Requirement already satisfied: six>=1.12.0 in /usr/local/lib/python3.9/dist-packages (from tensorflow>=2.9.0->tensorflow-recommenders) (1.15.0)\n",
            "Requirement already satisfied: termcolor>=1.1.0 in /usr/local/lib/python3.9/dist-packages (from tensorflow>=2.9.0->tensorflow-recommenders) (2.2.0)\n",
            "Requirement already satisfied: h5py>=2.9.0 in /usr/local/lib/python3.9/dist-packages (from tensorflow>=2.9.0->tensorflow-recommenders) (3.1.0)\n",
            "Requirement already satisfied: protobuf<3.20,>=3.9.2 in /usr/local/lib/python3.9/dist-packages (from tensorflow>=2.9.0->tensorflow-recommenders) (3.19.6)\n",
            "Requirement already satisfied: flatbuffers>=2.0 in /usr/local/lib/python3.9/dist-packages (from tensorflow>=2.9.0->tensorflow-recommenders) (23.3.3)\n",
            "Requirement already satisfied: wrapt>=1.11.0 in /usr/local/lib/python3.9/dist-packages (from tensorflow>=2.9.0->tensorflow-recommenders) (1.15.0)\n",
            "Requirement already satisfied: keras<2.12,>=2.11.0 in /usr/local/lib/python3.9/dist-packages (from tensorflow>=2.9.0->tensorflow-recommenders) (2.11.0)\n",
            "Requirement already satisfied: typing-extensions>=3.6.6 in /usr/local/lib/python3.9/dist-packages (from tensorflow>=2.9.0->tensorflow-recommenders) (4.5.0)\n",
            "Requirement already satisfied: setuptools in /usr/local/lib/python3.9/dist-packages (from tensorflow>=2.9.0->tensorflow-recommenders) (57.4.0)\n",
            "Requirement already satisfied: wheel<1.0,>=0.23.0 in /usr/local/lib/python3.9/dist-packages (from astunparse>=1.6.0->tensorflow>=2.9.0->tensorflow-recommenders) (0.38.4)\n",
            "Requirement already satisfied: google-auth<3,>=1.6.3 in /usr/local/lib/python3.9/dist-packages (from tensorboard<2.12,>=2.11->tensorflow>=2.9.0->tensorflow-recommenders) (2.16.2)\n",
            "Requirement already satisfied: markdown>=2.6.8 in /usr/local/lib/python3.9/dist-packages (from tensorboard<2.12,>=2.11->tensorflow>=2.9.0->tensorflow-recommenders) (3.4.1)\n",
            "Requirement already satisfied: requests<3,>=2.21.0 in /usr/local/lib/python3.9/dist-packages (from tensorboard<2.12,>=2.11->tensorflow>=2.9.0->tensorflow-recommenders) (2.25.1)\n",
            "Requirement already satisfied: tensorboard-plugin-wit>=1.6.0 in /usr/local/lib/python3.9/dist-packages (from tensorboard<2.12,>=2.11->tensorflow>=2.9.0->tensorflow-recommenders) (1.8.1)\n",
            "Requirement already satisfied: werkzeug>=1.0.1 in /usr/local/lib/python3.9/dist-packages (from tensorboard<2.12,>=2.11->tensorflow>=2.9.0->tensorflow-recommenders) (2.2.3)\n",
            "Requirement already satisfied: google-auth-oauthlib<0.5,>=0.4.1 in /usr/local/lib/python3.9/dist-packages (from tensorboard<2.12,>=2.11->tensorflow>=2.9.0->tensorflow-recommenders) (0.4.6)\n",
            "Requirement already satisfied: tensorboard-data-server<0.7.0,>=0.6.0 in /usr/local/lib/python3.9/dist-packages (from tensorboard<2.12,>=2.11->tensorflow>=2.9.0->tensorflow-recommenders) (0.6.1)\n",
            "Requirement already satisfied: rsa<5,>=3.1.4 in /usr/local/lib/python3.9/dist-packages (from google-auth<3,>=1.6.3->tensorboard<2.12,>=2.11->tensorflow>=2.9.0->tensorflow-recommenders) (4.9)\n",
            "Requirement already satisfied: pyasn1-modules>=0.2.1 in /usr/local/lib/python3.9/dist-packages (from google-auth<3,>=1.6.3->tensorboard<2.12,>=2.11->tensorflow>=2.9.0->tensorflow-recommenders) (0.2.8)\n",
            "Requirement already satisfied: cachetools<6.0,>=2.0.0 in /usr/local/lib/python3.9/dist-packages (from google-auth<3,>=1.6.3->tensorboard<2.12,>=2.11->tensorflow>=2.9.0->tensorflow-recommenders) (5.3.0)\n",
            "Requirement already satisfied: requests-oauthlib>=0.7.0 in /usr/local/lib/python3.9/dist-packages (from google-auth-oauthlib<0.5,>=0.4.1->tensorboard<2.12,>=2.11->tensorflow>=2.9.0->tensorflow-recommenders) (1.3.1)\n",
            "Requirement already satisfied: importlib-metadata>=4.4 in /usr/local/lib/python3.9/dist-packages (from markdown>=2.6.8->tensorboard<2.12,>=2.11->tensorflow>=2.9.0->tensorflow-recommenders) (6.0.0)\n",
            "Requirement already satisfied: urllib3<1.27,>=1.21.1 in /usr/local/lib/python3.9/dist-packages (from requests<3,>=2.21.0->tensorboard<2.12,>=2.11->tensorflow>=2.9.0->tensorflow-recommenders) (1.26.14)\n",
            "Requirement already satisfied: idna<3,>=2.5 in /usr/local/lib/python3.9/dist-packages (from requests<3,>=2.21.0->tensorboard<2.12,>=2.11->tensorflow>=2.9.0->tensorflow-recommenders) (2.10)\n",
            "Requirement already satisfied: chardet<5,>=3.0.2 in /usr/local/lib/python3.9/dist-packages (from requests<3,>=2.21.0->tensorboard<2.12,>=2.11->tensorflow>=2.9.0->tensorflow-recommenders) (4.0.0)\n",
            "Requirement already satisfied: certifi>=2017.4.17 in /usr/local/lib/python3.9/dist-packages (from requests<3,>=2.21.0->tensorboard<2.12,>=2.11->tensorflow>=2.9.0->tensorflow-recommenders) (2022.12.7)\n",
            "Requirement already satisfied: MarkupSafe>=2.1.1 in /usr/local/lib/python3.9/dist-packages (from werkzeug>=1.0.1->tensorboard<2.12,>=2.11->tensorflow>=2.9.0->tensorflow-recommenders) (2.1.2)\n",
            "Requirement already satisfied: zipp>=0.5 in /usr/local/lib/python3.9/dist-packages (from importlib-metadata>=4.4->markdown>=2.6.8->tensorboard<2.12,>=2.11->tensorflow>=2.9.0->tensorflow-recommenders) (3.15.0)\n",
            "Requirement already satisfied: pyasn1<0.5.0,>=0.4.6 in /usr/local/lib/python3.9/dist-packages (from pyasn1-modules>=0.2.1->google-auth<3,>=1.6.3->tensorboard<2.12,>=2.11->tensorflow>=2.9.0->tensorflow-recommenders) (0.4.8)\n",
            "Requirement already satisfied: oauthlib>=3.0.0 in /usr/local/lib/python3.9/dist-packages (from requests-oauthlib>=0.7.0->google-auth-oauthlib<0.5,>=0.4.1->tensorboard<2.12,>=2.11->tensorflow>=2.9.0->tensorflow-recommenders) (3.2.2)\n",
            "Installing collected packages: tensorflow-recommenders\n",
            "Successfully installed tensorflow-recommenders-0.7.3\n"
          ]
        }
      ]
    },
    {
      "cell_type": "code",
      "source": [
        "import numpy as np\n",
        "import tensorflow as tf\n",
        "import tensorflow_recommenders as tfrs\n",
        "from typing import Dict, Text"
      ],
      "metadata": {
        "id": "kshkDN9j9Fd3"
      },
      "execution_count": null,
      "outputs": []
    },
    {
      "cell_type": "code",
      "source": [
        "### standardize item data types, especially string, float, and integer\n",
        "\n",
        "data[['user_id',      \n",
        "          'product_id',  \n",
        "         ]] = data[['user_id','product_id']].astype(str)\n",
        "\n",
        "# we will play around with the data type of the quantity, \n",
        "# which you shall see later it affects the accuracy of the prediction.\n",
        "\n",
        "data['rating'] = data['rating'].astype(float)"
      ],
      "metadata": {
        "id": "URUqSKRc6A5r"
      },
      "execution_count": null,
      "outputs": []
    },
    {
      "cell_type": "code",
      "source": [
        "### define interactions data and user data\n",
        "\n",
        "### interactions \n",
        "### here we create a reference table of the user , item, and quantity purchased\n",
        "interactions_dict = data.groupby(['user_id', 'product_id'])[ 'rating'].sum().reset_index()\n",
        "\n",
        "## we tansform the table inta a dictionary , which then we feed into tensor slices\n",
        "# this step is crucial as this will be the type of data fed into the embedding layers\n",
        "interactions_dict = {name: np.array(value) for name, value in interactions_dict.items()}\n",
        "interactions = tf.data.Dataset.from_tensor_slices(interactions_dict)\n",
        "\n",
        "## we do similar step for item, where this is the reference table for items to be recommended\n",
        "items_dict = data[['product_id']].drop_duplicates()\n",
        "items_dict = {name: np.array(value) for name, value in items_dict.items()}\n",
        "items = tf.data.Dataset.from_tensor_slices(items_dict)\n",
        "\n",
        "## map the features in interactions and items to an identifier that we will use throught the embedding layers\n",
        "## do it for all the items in interaction and item table\n",
        "## you may often get itemtype error, so that is why here i am casting the quantity type as float to ensure consistency\n",
        "interactions = interactions.map(lambda x: {\n",
        "    'user_id' : x['user_id'], \n",
        "    'product_id' : x['product_id'], \n",
        "    'rating' : float(x['rating']),\n",
        "\n",
        "})\n",
        "\n",
        "items = items.map(lambda x: x['product_id'])"
      ],
      "metadata": {
        "id": "tZd2zM_m6A9J"
      },
      "execution_count": null,
      "outputs": []
    },
    {
      "cell_type": "code",
      "source": [
        "### define interactions data and user data\n",
        "\n",
        "### interactions \n",
        "### here we create a reference table of the user , item, and quantity purchased\n",
        "interactions_dict = data.groupby(['user_id', 'product_id'])[ 'rating'].sum().reset_index()\n",
        "\n",
        "## we tansform the table inta a dictionary , which then we feed into tensor slices\n",
        "# this step is crucial as this will be the type of data fed into the embedding layers\n",
        "interactions_dict = {name: np.array(value) for name, value in interactions_dict.items()}\n",
        "interactions = tf.data.Dataset.from_tensor_slices(interactions_dict)\n",
        "\n",
        "## we do similar step for item, where this is the reference table for items to be recommended\n",
        "items_dict = data[['product_id']].drop_duplicates()\n",
        "items_dict = {name: np.array(value) for name, value in items_dict.items()}\n",
        "items = tf.data.Dataset.from_tensor_slices(items_dict)\n",
        "\n",
        "## map the features in interactions and items to an identifier that we will use throught the embedding layers\n",
        "## do it for all the items in interaction and item table\n",
        "## you may often get itemtype error, so that is why here i am casting the quantity type as float to ensure consistency\n",
        "interactions = interactions.map(lambda x: {\n",
        "    'user_id' : x['user_id'], \n",
        "    'product_id' : x['product_id'], \n",
        "    'rating' : float(x['rating']),\n",
        "\n",
        "})\n",
        "\n",
        "items = items.map(lambda x: x['product_id'])"
      ],
      "metadata": {
        "id": "nSgkrG4A6A_h"
      },
      "execution_count": null,
      "outputs": []
    },
    {
      "cell_type": "code",
      "source": [
        "unique_item_titles = np.unique(np.concatenate(list(items.batch(1000))))\n",
        "unique_user_ids = np.unique(np.concatenate(list(interactions.batch(1_000).map(lambda x: x[\"user_id\"]))))\n"
      ],
      "metadata": {
        "id": "R0V0w_Jj6BBh"
      },
      "execution_count": null,
      "outputs": []
    },
    {
      "cell_type": "code",
      "source": [
        "### get unique item and user id's as a lookup table\n",
        "unique_item_titles = np.unique(np.concatenate(list(items.batch(1000))))\n",
        "unique_user_ids = np.unique(np.concatenate(list(interactions.batch(1_000).map(lambda x: x[\"user_id\"]))))\n",
        "\n",
        "# Randomly shuffle data and split between train and test.\n",
        "tf.random.set_seed(42)\n",
        "shuffled = interactions.shuffle(100_000, seed=42, reshuffle_each_iteration=False)\n",
        "\n",
        "train = shuffled.take(60_000)\n",
        "test = shuffled.skip(60_000).take(20_000)"
      ],
      "metadata": {
        "id": "eFdg9XsV-Lw3"
      },
      "execution_count": null,
      "outputs": []
    },
    {
      "cell_type": "code",
      "source": [
        "class RetailModel(tfrs.Model):\n",
        "    def __init__(self, user_model, item_model):\n",
        "        super().__init__()\n",
        "        ### Candidate model (item)\n",
        "        ### This is Keras preprocessing layers to first convert user ids to integers, \n",
        "        ### and then convert those to user embeddings via an Embedding layer. \n",
        "        ### We use the list of unique user ids we computed earlier as a vocabulary:\n",
        "        item_model = tf.keras.Sequential([tf.keras.layers.experimental.preprocessing.StringLookup(\n",
        "                                        vocabulary=unique_item_titles, mask_token=None),\n",
        "                                        tf.keras.layers.Embedding(len(unique_item_titles) + 1, embedding_dimension)])\n",
        "        ### we pass the embedding layer into item model\n",
        "        self.item_model: tf.keras.Model = item_model\n",
        "            \n",
        "        ### Query model (users)    \n",
        "        user_model = tf.keras.Sequential([tf.keras.layers.experimental.preprocessing.StringLookup(\n",
        "                                        vocabulary=unique_user_ids, mask_token=None),\n",
        "                                        # We add an additional embedding to account for unknown tokens.\n",
        "                                        tf.keras.layers.Embedding(len(unique_user_ids) + 1, embedding_dimension)])\n",
        "        self.user_model: tf.keras.Model = user_model\n",
        "        \n",
        "        ### for retrieval model. we take top-k accuracy as metrics\n",
        "        metrics = tfrs.metrics.FactorizedTopK(candidates=items.batch(128).map(item_model))\n",
        "        \n",
        "        # define the task, which is retrieval                                        \n",
        "        task = tfrs.tasks.Retrieval(metrics=metrics)\n",
        "        self.task: tf.keras.layers.Layer = task\n",
        "\n",
        "    def compute_loss(self, features: Dict[Text, tf.Tensor], training=False) -> tf.Tensor:\n",
        "        # We pick out the user features and pass them into the user model.\n",
        "        user_embeddings = self.user_model(features[\"user_id\"])\n",
        "        # And pick out the item features and pass them into the item model,\n",
        "        # getting embeddings back.\n",
        "        positive_item_embeddings = self.item_model(features[\"product_id\"])\n",
        "\n",
        "        # The task computes the loss and the metrics.\n",
        "        return self.task(user_embeddings, positive_item_embeddings)"
      ],
      "metadata": {
        "id": "0ZzS6_RHKoBL"
      },
      "execution_count": null,
      "outputs": []
    },
    {
      "cell_type": "code",
      "source": [
        "### Fitting and evaluating\n",
        "### we choose the dimensionality of the query and candicate representation.\n",
        "embedding_dimension = 32\n",
        "## we pass the model, which is the same model we created in the query and candidate tower, into the model\n",
        "item_model = tf.keras.Sequential([tf.keras.layers.experimental.preprocessing.StringLookup(\n",
        "                                vocabulary=unique_item_titles, mask_token=None),\n",
        "                                tf.keras.layers.Embedding(len(unique_item_titles) + 1, embedding_dimension)])\n",
        "\n",
        "user_model = tf.keras.Sequential([ tf.keras.layers.experimental.preprocessing.StringLookup(\n",
        "                                vocabulary=unique_user_ids, mask_token=None),\n",
        "                                # We add an additional embedding to account for unknown tokens.\n",
        "                                tf.keras.layers.Embedding(len(unique_user_ids) + 1, embedding_dimension)])\n",
        "\n",
        "model = RetailModel(user_model, item_model)\n",
        "\n",
        "\n",
        "model.compile(optimizer=tf.keras.optimizers.SGD(learning_rate=0.01))\n",
        "cached_train = train.shuffle(100_000).batch(8192).cache()\n",
        "cached_test = test.batch(4096).cache()\n",
        "\n",
        "## fit the model with ten epochs\n",
        "model_hist = model.fit(cached_train, epochs=10)\n",
        "\n",
        "#evaluate the model\n",
        "#model.evaluate(cached_test,return_dict=True)\n"
      ],
      "metadata": {
        "colab": {
          "base_uri": "https://localhost:8080/"
        },
        "id": "1BGafXNpKoDa",
        "outputId": "e8acc9f0-cec8-4709-9860-1e8dfe326263"
      },
      "execution_count": null,
      "outputs": [
        {
          "output_type": "stream",
          "name": "stdout",
          "text": [
            "Epoch 1/10\n",
            "1/1 [==============================] - 1s 911ms/step - factorized_top_k/top_1_categorical_accuracy: 0.0000e+00 - factorized_top_k/top_5_categorical_accuracy: 0.0051 - factorized_top_k/top_10_categorical_accuracy: 0.0066 - factorized_top_k/top_50_categorical_accuracy: 0.0324 - factorized_top_k/top_100_categorical_accuracy: 0.0654 - loss: 9812.8857 - regularization_loss: 0.0000e+00 - total_loss: 9812.8857\n",
            "Epoch 2/10\n",
            "1/1 [==============================] - 0s 181ms/step - factorized_top_k/top_1_categorical_accuracy: 0.0000e+00 - factorized_top_k/top_5_categorical_accuracy: 0.0051 - factorized_top_k/top_10_categorical_accuracy: 0.0066 - factorized_top_k/top_50_categorical_accuracy: 0.0419 - factorized_top_k/top_100_categorical_accuracy: 0.0757 - loss: 9812.1641 - regularization_loss: 0.0000e+00 - total_loss: 9812.1641\n",
            "Epoch 3/10\n",
            "1/1 [==============================] - 0s 203ms/step - factorized_top_k/top_1_categorical_accuracy: 0.0000e+00 - factorized_top_k/top_5_categorical_accuracy: 0.0051 - factorized_top_k/top_10_categorical_accuracy: 0.0088 - factorized_top_k/top_50_categorical_accuracy: 0.0507 - factorized_top_k/top_100_categorical_accuracy: 0.0963 - loss: 9811.4404 - regularization_loss: 0.0000e+00 - total_loss: 9811.4404\n",
            "Epoch 4/10\n",
            "1/1 [==============================] - 0s 202ms/step - factorized_top_k/top_1_categorical_accuracy: 0.0000e+00 - factorized_top_k/top_5_categorical_accuracy: 0.0066 - factorized_top_k/top_10_categorical_accuracy: 0.0110 - factorized_top_k/top_50_categorical_accuracy: 0.0647 - factorized_top_k/top_100_categorical_accuracy: 0.1154 - loss: 9810.7178 - regularization_loss: 0.0000e+00 - total_loss: 9810.7178\n",
            "Epoch 5/10\n",
            "1/1 [==============================] - 0s 214ms/step - factorized_top_k/top_1_categorical_accuracy: 0.0000e+00 - factorized_top_k/top_5_categorical_accuracy: 0.0081 - factorized_top_k/top_10_categorical_accuracy: 0.0169 - factorized_top_k/top_50_categorical_accuracy: 0.0757 - factorized_top_k/top_100_categorical_accuracy: 0.1478 - loss: 9809.9941 - regularization_loss: 0.0000e+00 - total_loss: 9809.9941\n",
            "Epoch 6/10\n",
            "1/1 [==============================] - 0s 200ms/step - factorized_top_k/top_1_categorical_accuracy: 0.0000e+00 - factorized_top_k/top_5_categorical_accuracy: 0.0125 - factorized_top_k/top_10_categorical_accuracy: 0.0257 - factorized_top_k/top_50_categorical_accuracy: 0.0926 - factorized_top_k/top_100_categorical_accuracy: 0.1750 - loss: 9809.2695 - regularization_loss: 0.0000e+00 - total_loss: 9809.2695\n",
            "Epoch 7/10\n",
            "1/1 [==============================] - 0s 196ms/step - factorized_top_k/top_1_categorical_accuracy: 0.0000e+00 - factorized_top_k/top_5_categorical_accuracy: 0.0140 - factorized_top_k/top_10_categorical_accuracy: 0.0346 - factorized_top_k/top_50_categorical_accuracy: 0.1184 - factorized_top_k/top_100_categorical_accuracy: 0.2022 - loss: 9808.5410 - regularization_loss: 0.0000e+00 - total_loss: 9808.5410\n",
            "Epoch 8/10\n",
            "1/1 [==============================] - 0s 185ms/step - factorized_top_k/top_1_categorical_accuracy: 0.0000e+00 - factorized_top_k/top_5_categorical_accuracy: 0.0176 - factorized_top_k/top_10_categorical_accuracy: 0.0412 - factorized_top_k/top_50_categorical_accuracy: 0.1412 - factorized_top_k/top_100_categorical_accuracy: 0.2338 - loss: 9807.8125 - regularization_loss: 0.0000e+00 - total_loss: 9807.8125\n",
            "Epoch 9/10\n",
            "1/1 [==============================] - 0s 180ms/step - factorized_top_k/top_1_categorical_accuracy: 0.0000e+00 - factorized_top_k/top_5_categorical_accuracy: 0.0272 - factorized_top_k/top_10_categorical_accuracy: 0.0493 - factorized_top_k/top_50_categorical_accuracy: 0.1728 - factorized_top_k/top_100_categorical_accuracy: 0.2676 - loss: 9807.0811 - regularization_loss: 0.0000e+00 - total_loss: 9807.0811\n",
            "Epoch 10/10\n",
            "1/1 [==============================] - 0s 207ms/step - factorized_top_k/top_1_categorical_accuracy: 0.0000e+00 - factorized_top_k/top_5_categorical_accuracy: 0.0331 - factorized_top_k/top_10_categorical_accuracy: 0.0588 - factorized_top_k/top_50_categorical_accuracy: 0.1971 - factorized_top_k/top_100_categorical_accuracy: 0.3096 - loss: 9806.3457 - regularization_loss: 0.0000e+00 - total_loss: 9806.3457\n"
          ]
        }
      ]
    },
    {
      "cell_type": "markdown",
      "source": [
        "#### TensorFlow-based recommendation models can be used to build more sophisticated and personalized recommendation systems by leveraging deep learning techniques. These models can incorporate additional features and data sources beyond traditional recommendation techniques,here, i am using simple retrive methods, "
      ],
      "metadata": {
        "id": "vxL3i_nptSub"
      }
    },
    {
      "cell_type": "markdown",
      "source": [
        "### Hybrid Model"
      ],
      "metadata": {
        "id": "-8uxg-Kxsumi"
      }
    },
    {
      "cell_type": "code",
      "source": [
        "import pandas as pd\n",
        "import numpy as np\n",
        "from sklearn.metrics.pairwise import cosine_similarity\n",
        "from sklearn.feature_extraction.text import CountVectorizer\n",
        "from scipy.sparse import csr_matrix\n",
        "from sklearn.neighbors import NearestNeighbors\n",
        "\n",
        "# Load the data\n",
        "ratings_data=data[[\"product_id\",\"user_id\",\"rating\"]]\n",
        "products_data=data[[\"product_id\",\"product_name\",\"about_product\"]]\n",
        "\n",
        "# Merge the data\n",
        "merged_data = pd.merge(ratings_data, products_data, on='product_id')\n",
        "\n",
        "# Create a pivot table\n",
        "product_features = merged_data.pivot_table(index='product_id', columns='user_id', values='rating').fillna(0)\n",
        "\n",
        "# Create a sparse matrix\n",
        "product_features_matrix = csr_matrix(product_features.values)\n",
        "\n",
        "# Compute the cosine similarity between products\n",
        "product_similarity = cosine_similarity(product_features_matrix)\n",
        "\n",
        "# Create a content-based filtering model\n",
        "cv = CountVectorizer()\n",
        "product_content = cv.fit_transform(products_data['about_product'])\n",
        "content_similarity = cosine_similarity(product_content)\n",
        "\n",
        "# Create a collaborative filtering model\n",
        "model_knn = NearestNeighbors(metric='cosine', algorithm='brute')\n",
        "model_knn.fit(product_features_matrix)\n",
        "\n",
        "# Define a hybrid recommendation function\n",
        "def hybrid_recommendation(product_id):\n",
        "    # Get the index of the product in the product_features table\n",
        "    product_idx = np.where(product_features.index == product_id)[0][0]\n",
        "    \n",
        "    # Compute the similarity score for the product based on content\n",
        "    content_scores = list(enumerate(content_similarity[product_idx]))\n",
        "    \n",
        "    # Compute the similarity score for the product based on collaborative filtering\n",
        "    cf_scores = list(model_knn.kneighbors(product_features.iloc[product_idx].values.reshape(1, -1), n_neighbors=10)[1][0])\n",
        "    \n",
        "    # Combine the scores and sort them\n",
        "    hybrid_scores = [(i, (0.5*content_similarity[product_idx][i]) + (0.5*product_similarity[product_idx][i])) for i in range(len(product_features.index))]\n",
        "    hybrid_scores = sorted(hybrid_scores, key=lambda x: x[1], reverse=True)\n",
        "    \n",
        "    # Get the top 10 recommendations\n",
        "    recommendations = [i[0] for i in hybrid_scores[:10]]\n",
        "    \n",
        "    return recommendations\n"
      ],
      "metadata": {
        "id": "FerT-NGemu2X"
      },
      "execution_count": 30,
      "outputs": []
    },
    {
      "cell_type": "code",
      "source": [
        "# Call the hybrid_recommendation function to get the top 10 recommendations for a product with ID 'prod001'\n",
        "recommendations = hybrid_recommendation('B07JW9H4J1')\n",
        "\n",
        "# Print out the list of recommended product IDs\n",
        "print('Top 10 recommendations:', recommendations)\n"
      ],
      "metadata": {
        "colab": {
          "base_uri": "https://localhost:8080/"
        },
        "id": "y6iR5CZ4mu6H",
        "outputId": "897783d0-6aba-4e33-866a-0d25ebf61d9a"
      },
      "execution_count": 32,
      "outputs": [
        {
          "output_type": "stream",
          "name": "stdout",
          "text": [
            "Top 10 recommendations: [346, 369, 339, 345, 338, 457, 496, 600, 337, 462]\n"
          ]
        }
      ]
    },
    {
      "cell_type": "markdown",
      "source": [
        "#### Hybrid models combine multiple recommendation techniques to improve the quality of recommendations. By combining collaborative filtering and content-based filtering, the hybrid model can provide more personalized recommendations and overcome the limitations of each individual technique.\n",
        "\n"
      ],
      "metadata": {
        "id": "9wtfuXb8tFG4"
      }
    },
    {
      "cell_type": "markdown",
      "source": [
        "#### In conclusion, each type of recommendation model has its strengths and limitations, and the choice of the most appropriate model depends on the specific needs and goals of the recommendation system."
      ],
      "metadata": {
        "id": "RyLXp4NstNMq"
      }
    }
  ]
}